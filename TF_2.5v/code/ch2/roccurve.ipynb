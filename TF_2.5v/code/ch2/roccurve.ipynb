{
 "cells": [
  {
   "cell_type": "markdown",
   "metadata": {},
   "source": [
    "## Imbalanced Data"
   ]
  },
  {
   "cell_type": "code",
   "execution_count": null,
   "metadata": {},
   "outputs": [],
   "source": [
    "import numpy as np\n",
    "import matplotlib.pyplot as plt\n",
    "\n",
    "# 임의의 데이터를 생성합니다.\n",
    "data = [np.random.randint(0, 10) for _ in range(101)]\n",
    "\n",
    "# 클래스 6에 해당하는 데이터를 30개 더 추가합니다.\n",
    "[data.append(6) for _ in range(30)]\n",
    "    \n",
    "\n",
    "n, bis, patches = plt.hist(data)\n",
    "plt.title('Imbalanced Data', fontsize = 20)\n",
    "patches[6].set_fc('orange')\n",
    "plt.tight_layout()\n",
    "plt.show()"
   ]
  },
  {
   "cell_type": "markdown",
   "metadata": {},
   "source": [
    "## ROC CURVE"
   ]
  },
  {
   "cell_type": "code",
   "execution_count": null,
   "metadata": {
    "scrolled": true
   },
   "outputs": [],
   "source": [
    "# [0] : 정상 햄버거, [1] : 유통기한이 지난 햄버거\n",
    "y_true = [0, 1, 1, 1, 1, 0, 1, 1, 0, 0]\n",
    "\n",
    "# 각 클래스에 대한 확률은 임의로 지정합니다.\n",
    "A_proba = [0.6, 0.7, 0.7, 0.8, 0.9, 0.7, 0.85, 0.7, 0.65, 0.75]\n",
    "B_proba = [0.05, 0.05, 0.1, 0.3, 0.6, 0.3, 0.4, 0.5, 0.2, 0.1]\n",
    "\n",
    "# 완벽한 모델\n",
    "C_pred = [0, 1, 1, 0, 1, 0, 1, 1, 0, 0]\n",
    "C_proba = [0, 1, 1, 1, 1, 0, 1, 1, 0, 0]\n",
    "\n",
    "from sklearn.metrics import roc_curve, auc\n",
    "\n",
    "fpr_A, tpr_A, thr_A = roc_curve(y_true, A_proba)\n",
    "fpr_B, tpr_B, thr_B = roc_curve(y_true, B_proba)\n",
    "fpr_C, tpr_C, thr_C = roc_curve(y_true, C_proba)\n",
    "\n",
    "auc_A = auc(fpr_A, tpr_A)\n",
    "auc_B = auc(fpr_B, tpr_B)\n",
    "auc_C = auc(fpr_C, tpr_C)\n",
    "\n",
    "import matplotlib.pyplot as plt\n",
    "\n",
    "plt.xlabel('False Positive Rate')\n",
    "plt.ylabel('True Positive Rate')\n",
    "plt.title('ROC Curve', fontsize = 20)\n",
    "\n",
    "plt.plot(fpr_A, tpr_A, color='darkorange',\n",
    "         lw=2, label='ROC curve (area = %0.2f)' % auc_A)\n",
    "plt.plot(fpr_B, tpr_B, color='blue',\n",
    "         lw=2, label='ROC curve (area = %0.2f)' % auc_B)\n",
    "plt.plot(fpr_C, tpr_C, color='green',\n",
    "         lw=2, label='ROC curve (area = %0.2f)' % auc_C)\n",
    "\n",
    "plt.plot([0, 1], [0, 1], color='red', lw=2, linestyle='--')\n",
    "plt.legend(loc=\"lower right\")\n",
    "plt.tight_layout()\n",
    "plt.show()"
   ]
  }
 ],
 "metadata": {
  "kernelspec": {
   "display_name": "jhw",
   "language": "python",
   "name": "jhw"
  },
  "language_info": {
   "codemirror_mode": {
    "name": "ipython",
    "version": 3
   },
   "file_extension": ".py",
   "mimetype": "text/x-python",
   "name": "python",
   "nbconvert_exporter": "python",
   "pygments_lexer": "ipython3",
   "version": "3.8.5"
  }
 },
 "nbformat": 4,
 "nbformat_minor": 2
}
