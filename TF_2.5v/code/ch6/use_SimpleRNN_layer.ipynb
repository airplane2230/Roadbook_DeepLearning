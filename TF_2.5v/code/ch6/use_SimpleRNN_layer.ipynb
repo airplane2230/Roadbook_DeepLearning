{
 "cells": [
  {
   "cell_type": "markdown",
   "metadata": {},
   "source": [
    "# RNN 의사 코드 (실행 X)"
   ]
  },
  {
   "cell_type": "code",
   "execution_count": null,
   "metadata": {},
   "outputs": [],
   "source": [
    "state_t = 0 # 초기 상태\n",
    "\n",
    "for input_t in input_sequence: # 각 시점에 해당하는 입력을 반복합니다.\n",
    "    output_t = activation_func(input_t, state_t) # 입력과 은닉상태를 활성화 함수에 통과시킵니다.\n",
    "    state_t = output_t # 출력값은 다음 시점을 위한 은닉 상태가 됩니다."
   ]
  },
  {
   "cell_type": "markdown",
   "metadata": {},
   "source": [
    "## cos 함수를 이용하여 데이터 만들기"
   ]
  },
  {
   "cell_type": "code",
   "execution_count": null,
   "metadata": {},
   "outputs": [],
   "source": [
    "import numpy as np\n",
    "import matplotlib.pyplot as plt\n",
    "\n",
    "np.random.seed(2020)\n",
    "\n",
    "time = np.arange(30 * 12 + 1)\n",
    "month_time = (time % 30) / 30\n",
    "time_series = 20 * np.where(month_time < 0.5, \n",
    "                          np.cos(2 * np.pi * month_time),\n",
    "                          np.cos(2 * np.pi * month_time) + np.random.random(361))\n",
    "\n",
    "\n",
    "plt.figure(figsize = (10, 5))\n",
    "plt.title('TimeSeries Data')\n",
    "plt.xlabel('Time')\n",
    "plt.ylabel('Value')\n",
    "# 학습용 데이터\n",
    "plt.plot(np.arange(0, 30 * 11 + 1), time_series[:30 * 11 + 1], \n",
    "         color = 'black', alpha = 0.7, label = 'train')\n",
    "# 테스트용 데이터\n",
    "plt.plot(np.arange(30 * 11, 30 * 12 + 1), time_series[30 * 11:], \n",
    "         color = 'orange', label = 'test')\n",
    "plt.legend()"
   ]
  },
  {
   "cell_type": "markdown",
   "metadata": {},
   "source": [
    "## 전처리 과정 수행하기"
   ]
  },
  {
   "cell_type": "code",
   "execution_count": null,
   "metadata": {},
   "outputs": [],
   "source": [
    "def make_sequence(time_series, n):\n",
    "    x_train, y_train = list(), list()\n",
    "    \n",
    "    for i in range(len(time_series)):\n",
    "        x = time_series[i:(i + n)]\n",
    "        if (i + n) < len(time_series):\n",
    "            x_train.append(x)\n",
    "            y_train.append(time_series[i + n])\n",
    "        else:\n",
    "            break\n",
    "            \n",
    "    return np.array(x_train), np.array(y_train)\n",
    "\n",
    "n = 10 # 주기 설정\n",
    "x_train, y_train = make_sequence(time_series, n)\n",
    "\n",
    "x_train = x_train.reshape(-1, n, 1)\n",
    "y_train = y_train.reshape(-1, 1)"
   ]
  },
  {
   "cell_type": "code",
   "execution_count": null,
   "metadata": {},
   "outputs": [],
   "source": [
    "# 학습용 및 테스트용 데이터 분리\n",
    "patial_x_train = x_train[:30 * 11]\n",
    "patial_y_train = y_train[:30 * 11]\n",
    "x_test = x_train[30 * 11:]\n",
    "y_test = y_train[30 * 11:]\n",
    "\n",
    "print('partial_train:', patial_x_train.shape, patial_y_train.shape) \n",
    "print('test:',x_test.shape, y_test.shape)"
   ]
  },
  {
   "cell_type": "markdown",
   "metadata": {},
   "source": [
    "## 데이터 형태 확인하기"
   ]
  },
  {
   "cell_type": "code",
   "execution_count": null,
   "metadata": {},
   "outputs": [],
   "source": [
    "test_arr = np.arange(100)\n",
    "a, b = make_sequence(test_arr, 10)\n",
    "\n",
    "for i in range(1, 4):\n",
    "    print(a[i],'|', b[i])"
   ]
  },
  {
   "cell_type": "markdown",
   "metadata": {},
   "source": [
    "## SimpleRNN을 사용하여 모델 구성하기"
   ]
  },
  {
   "cell_type": "code",
   "execution_count": null,
   "metadata": {
    "scrolled": true
   },
   "outputs": [],
   "source": [
    "from tensorflow.keras.layers import SimpleRNN, Flatten, Dense\n",
    "from tensorflow.keras.models import Sequential\n",
    "\n",
    "model = Sequential()\n",
    "\n",
    "# SimpleRNN 층을 첫 번째 층으로 사용하는 경우,\n",
    "# 반드시 input_shape를 명시해주어야 합니다.\n",
    "model.add(SimpleRNN(units = 32, activation = 'tanh', input_shape = (n, 1)))\n",
    "model.add(Dense(1, activation = 'linear'))\n",
    "\n",
    "model.compile(optimizer = 'adam', loss = 'mse')\n",
    "model.summary()"
   ]
  },
  {
   "cell_type": "markdown",
   "metadata": {},
   "source": [
    "## 모델 학습시키기"
   ]
  },
  {
   "cell_type": "code",
   "execution_count": null,
   "metadata": {
    "scrolled": true
   },
   "outputs": [],
   "source": [
    "# 책 오탈자 수정 x_train, y_train -> partial_ add, 2021.06.23\n",
    "# model.fit(x_train, y_train, epochs = 200, batch_size = 12)\n",
    "model.fit(patial_x_train, patial_y_train, epochs = 200, batch_size = 12)"
   ]
  },
  {
   "cell_type": "markdown",
   "metadata": {},
   "source": [
    "## 예측 결과 그려보기"
   ]
  },
  {
   "cell_type": "code",
   "execution_count": null,
   "metadata": {},
   "outputs": [],
   "source": [
    "pred = model.predict(x_test)\n",
    "\n",
    "pred_range = np.arange(len(y_train), len(y_train) + len(pred))\n",
    "\n",
    "plt.figure(figsize=(15,5))\n",
    "plt.title('Prediction')\n",
    "plt.xlabel('Time'); plt.ylabel('Value')\n",
    "plt.plot(pred_range, y_test.reshape(-1,), color='orange', label='ground-truth')\n",
    "plt.plot(pred_range, pred.reshape(-1,), color='blue', label='prediction')\n",
    "plt.legend()\n",
    "plt.show()"
   ]
  },
  {
   "cell_type": "markdown",
   "metadata": {},
   "source": [
    "## IMDB 데이터셋 사용하기"
   ]
  },
  {
   "cell_type": "code",
   "execution_count": null,
   "metadata": {},
   "outputs": [],
   "source": [
    "from tensorflow.keras.datasets import imdb\n",
    "\n",
    "# 1 ~ 10,000 빈도 순위에 해당하는 단어만 사용합니다.\n",
    "num_words = 10000\n",
    "(X_train, y_train), (X_test, y_test) = imdb.load_data(num_words = num_words)"
   ]
  },
  {
   "cell_type": "code",
   "execution_count": null,
   "metadata": {},
   "outputs": [],
   "source": [
    "from tensorflow.keras.preprocessing.sequence import pad_sequences\n",
    "\n",
    "# 각 데이터의 최대 길이를 500으로 동일하게 맞춰줍니다.\n",
    "max_len = 500\n",
    "\n",
    "pad_X_train = pad_sequences(X_train, maxlen=max_len)\n",
    "pad_X_test = pad_sequences(X_test, maxlen=max_len)"
   ]
  },
  {
   "cell_type": "code",
   "execution_count": null,
   "metadata": {},
   "outputs": [],
   "source": [
    "from tensorflow.keras.models import Sequential\n",
    "from tensorflow.keras.layers import SimpleRNN, Dense, Embedding  \n",
    "\n",
    "model = Sequential()\n",
    "\n",
    "model.add(Embedding(input_dim = num_words, output_dim = 32))\n",
    "# 새로운 인자 3개가 사용되었습니다.\n",
    "# return_sequences, dropout, recurrent_dropout\n",
    "model.add(SimpleRNN(32, return_sequences = True, dropout = 0.15, recurrent_dropout = 0.15))\n",
    "model.add(SimpleRNN(32))\n",
    "model.add(Dense(1, activation = 'sigmoid'))\n",
    "\n",
    "model.compile(optimizer='adam',\n",
    "             loss = 'binary_crossentropy',\n",
    "             metrics = ['acc'])\n",
    "\n",
    "# model.summary()\n",
    "history = model.fit(pad_X_train, y_train, \n",
    "                    batch_size = 32, epochs = 15, \n",
    "                    validation_split = 0.2)"
   ]
  },
  {
   "cell_type": "markdown",
   "metadata": {},
   "source": [
    "## SimpleRNN 층의 출력값 변화 확인하기"
   ]
  },
  {
   "cell_type": "code",
   "execution_count": null,
   "metadata": {
    "scrolled": true
   },
   "outputs": [],
   "source": [
    "from tensorflow.keras.models import Sequential\n",
    "from tensorflow.keras.layers import SimpleRNN, Dense, Embedding  \n",
    "\n",
    "model = Sequential()\n",
    "\n",
    "model.add(Embedding(input_dim = 10000, output_dim = 32))\n",
    "# 전체 상태 시퀀스를 반환하거나,\n",
    "# 마지막 시점의 상태 시퀀스만 반환합니다.\n",
    "# 주석을 바꿔가면서 출력값 변화를 확인해보세요!\n",
    "model.add(SimpleRNN(32, return_sequences = True))\n",
    "# model.add(SimpleRNN(32, return_sequences = False))\n",
    "model.summary()"
   ]
  },
  {
   "cell_type": "markdown",
   "metadata": {},
   "source": [
    "## 학습 과정 그리기"
   ]
  },
  {
   "cell_type": "code",
   "execution_count": null,
   "metadata": {},
   "outputs": [],
   "source": [
    "import matplotlib.pyplot as plt\n",
    "\n",
    "his_dict = history.history\n",
    "loss = his_dict['loss']\n",
    "val_loss = his_dict['val_loss'] \n",
    "\n",
    "epochs = range(1, len(loss) + 1)\n",
    "fig = plt.figure(figsize = (10, 5))\n",
    "\n",
    "# 훈련 및 검증 손실 그리기\n",
    "ax1 = fig.add_subplot(1, 2, 1)\n",
    "ax1.plot(epochs, loss, color = 'blue', label = 'train_loss')\n",
    "ax1.plot(epochs, val_loss, color = 'orange', label = 'val_loss')\n",
    "ax1.set_title('train and val loss')\n",
    "ax1.set_xlabel('epochs')\n",
    "ax1.set_ylabel('loss')\n",
    "ax1.legend()\n",
    "\n",
    "acc = his_dict['acc']\n",
    "val_acc = his_dict['val_acc']\n",
    "\n",
    "# 훈련 및 검증 정확도 그리기\n",
    "ax2 = fig.add_subplot(1, 2, 2)\n",
    "ax2.plot(epochs, acc, color = 'blue', label = 'train_acc')\n",
    "ax2.plot(epochs, val_acc, color = 'orange', label = 'val_acc')\n",
    "ax2.set_title('train and val acc')\n",
    "ax2.set_xlabel('epochs')\n",
    "ax2.set_ylabel('acc')\n",
    "ax2.legend()\n",
    "\n",
    "plt.show()"
   ]
  }
 ],
 "metadata": {
  "kernelspec": {
   "display_name": "jhw",
   "language": "python",
   "name": "jhw"
  },
  "language_info": {
   "codemirror_mode": {
    "name": "ipython",
    "version": 3
   },
   "file_extension": ".py",
   "mimetype": "text/x-python",
   "name": "python",
   "nbconvert_exporter": "python",
   "pygments_lexer": "ipython3",
   "version": "3.8.5"
  }
 },
 "nbformat": 4,
 "nbformat_minor": 2
}
