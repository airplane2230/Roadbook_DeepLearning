{
 "cells": [
  {
   "cell_type": "markdown",
   "metadata": {},
   "source": [
    "## 데이터 불러오기"
   ]
  },
  {
   "cell_type": "code",
   "execution_count": null,
   "metadata": {},
   "outputs": [],
   "source": [
    "import pandas as pd\n",
    "import numpy as np\n",
    "import tensorflow as tf\n",
    "\n",
    "from tensorflow.keras.preprocessing.image import ImageDataGenerator\n",
    "\n",
    "from tensorflow.keras.layers import Conv2D, MaxPooling2D, Input, Concatenate\n",
    "from tensorflow.keras.layers import Dense, GlobalAveragePooling2D\n",
    "\n",
    "from tensorflow.keras.models import Model\n",
    "\n",
    "DATA_PATH = './csv_data/colorinfo'\n",
    "\n",
    "train_df = pd.read_csv(DATA_PATH + '/train_color.csv')\n",
    "val_df = pd.read_csv(DATA_PATH + '/val_color.csv')\n",
    "test_df = pd.read_csv(DATA_PATH + '/test_color.csv')\n",
    "\n",
    "# Colab에서 사용한다면, 다음 코드 주석을 풀고, 실행시킵니다.\n",
    "# train_df['image'] = train_df['image'].apply(lambda x: str(x).replace('\\\\', '/'))\n",
    "# val_df['image'] = val_df['image'].apply(lambda x: str(x).replace('\\\\', '/'))\n",
    "# test_df['image'] = test_df['image'].apply(lambda x: str(x).replace('\\\\', '/'))\n",
    "\n",
    "train_df.head()"
   ]
  },
  {
   "cell_type": "markdown",
   "metadata": {},
   "source": [
    "## 제네레이터 정의하기"
   ]
  },
  {
   "cell_type": "code",
   "execution_count": null,
   "metadata": {},
   "outputs": [],
   "source": [
    "def get_steps(num_samples, batch_size):\n",
    "    if (num_samples % batch_size) > 0 :\n",
    "        return (num_samples // batch_size) + 1\n",
    "    else :\n",
    "        return num_samples // batch_size\n",
    "\n",
    "class DataGenerator(tf.keras.utils.Sequence):\n",
    "    def __init__(self, df, batch_size = 32, target_size = (112, 112), \n",
    "                 shuffle = True,\n",
    "                training = True):\n",
    "        self.len_df = len(df)\n",
    "        self.batch_size = batch_size\n",
    "        self.target_size = target_size\n",
    "        self.shuffle = shuffle\n",
    "        self.training = training\n",
    "        \n",
    "        if training:\n",
    "            self.class_col = ['black', 'blue', 'brown', 'green', 'red', 'white', \n",
    "                 'dress', 'shirt', 'pants', 'shorts', 'shoes']\n",
    "        else:\n",
    "            self.class_col = None\n",
    "        \n",
    "        # 제네레이터를 통해 이미지를 불러옵니다.\n",
    "        self.generator = ImageDataGenerator(rescale = 1./255)\n",
    "        self.df_generator = self.generator.flow_from_dataframe(dataframe = df, \n",
    "                                                               directory = '',\n",
    "                                                               x_col = 'image',\n",
    "                                                               y_col = self.class_col if training else None,\n",
    "                                                               target_size = self.target_size,\n",
    "                                                               color_mode = 'rgb',\n",
    "                                                               class_mode = 'raw' if training else None,\n",
    "                                                               batch_size = self.batch_size,\n",
    "                                                               shuffle = True,\n",
    "                                                               seed = 42)\n",
    "        self.colors_df = df['color']\n",
    "        self.on_epoch_end()\n",
    "        \n",
    "    def __len__(self):\n",
    "        return int(np.floor(self.len_df) / self.batch_size)\n",
    "    \n",
    "    # 데이터를 섞습니다.\n",
    "    def on_epoch_end(self):\n",
    "        self.indexes = np.arange(self.len_df)\n",
    "        if self.shuffle:\n",
    "            np.random.shuffle(self.indexes)\n",
    "    \n",
    "    # ([이미지 데이터, 색 정보], 레이블)을 반환합니다.\n",
    "    # 이미지는 미리 정의한 제네레이터를 통해,\n",
    "    # 색 정보는 __data_generation 메소드를 활용합니다.\n",
    "    def __getitem__(self, index):\n",
    "        start = index * self.batch_size\n",
    "        end = (index + 1) * self.batch_size if (index + 1) * self.batch_size < self.len_df else (self.len_df + 1)\n",
    "        \n",
    "        indexes = self.indexes[start:end]\n",
    "        colors = self.__data_generation(indexes)\n",
    "        \n",
    "        if self.training:\n",
    "            images, labels = self.df_generator.__getitem__(index)\n",
    "            \n",
    "            return [images, colors], labels\n",
    "        else:\n",
    "            images = self.df_generator.__getitem__(index)\n",
    "            \n",
    "            return [images, colors]\n",
    "        \n",
    "    def __data_generation(self, indexes):\n",
    "        colors = np.array([self.colors_df[k] for k in indexes])\n",
    "\n",
    "        return colors"
   ]
  },
  {
   "cell_type": "code",
   "execution_count": null,
   "metadata": {
    "scrolled": true
   },
   "outputs": [],
   "source": [
    "train_datagen = DataGenerator(train_df, \n",
    "                              batch_size = 32, \n",
    "                              target_size = (112, 112),\n",
    "                              shuffle = True,\n",
    "                              training = True)\n",
    "val_datagen = DataGenerator(val_df, \n",
    "                            batch_size = 32, \n",
    "                            target_size = (112, 112),\n",
    "                            shuffle = True,\n",
    "                            training = True)"
   ]
  },
  {
   "cell_type": "markdown",
   "metadata": {},
   "source": [
    "## 모델 구성하기"
   ]
  },
  {
   "cell_type": "code",
   "execution_count": null,
   "metadata": {},
   "outputs": [],
   "source": [
    "def get_model():\n",
    "    # 다중 입력 모델을 구성합니다.\n",
    "    img_input = Input(shape = (112, 112, 3))\n",
    "    color_input = Input(shape = [1])\n",
    "    \n",
    "    x = Conv2D(32, (3, 3), padding = 'same', activation = 'relu')(img_input)\n",
    "    x = MaxPooling2D((3, 3), strides = 2)(x)\n",
    "    x = Conv2D(64, (3, 3), padding = 'same', activation = 'relu')(x)\n",
    "    x = MaxPooling2D((3, 3), strides = 2)(x)\n",
    "    x = Conv2D(64, (3, 3), padding = 'same', activation = 'relu')(x)\n",
    "    x = MaxPooling2D((3, 3), strides = 2)(x)\n",
    "    x = GlobalAveragePooling2D()(x)\n",
    "    \n",
    "    # 색 데이터를 병합합니다.\n",
    "    color_concat = Concatenate()([x, color_input])\n",
    "    \n",
    "    x = Dense(64, activation = 'relu')(color_concat)\n",
    "    x = Dense(11, activation = 'sigmoid')(x)\n",
    "    \n",
    "    # 다중 입력이기 때문에,\n",
    "    # inputs 인자에 리스트 형태로 입력 데이터를 전달합니다.\n",
    "    model = Model(inputs = [img_input, color_input], outputs = x)\n",
    "    \n",
    "    model.compile(optimizer = 'adam',\n",
    "             loss = 'binary_crossentropy',\n",
    "             metrics = ['binary_accuracy'])\n",
    "    \n",
    "    return model\n",
    "\n",
    "model = get_model()\n",
    "print('model ready~')"
   ]
  },
  {
   "cell_type": "markdown",
   "metadata": {},
   "source": [
    "## 제네레이터를 통해 모델 학습시키기"
   ]
  },
  {
   "cell_type": "code",
   "execution_count": null,
   "metadata": {},
   "outputs": [],
   "source": [
    "batch_size = 32\n",
    "\n",
    "model.fit(train_datagen,\n",
    "         validation_data = val_datagen,\n",
    "         epochs = 10)"
   ]
  },
  {
   "cell_type": "markdown",
   "metadata": {},
   "source": [
    "## 테스트 데이터 예측하기"
   ]
  },
  {
   "cell_type": "code",
   "execution_count": null,
   "metadata": {},
   "outputs": [],
   "source": [
    "test_df"
   ]
  },
  {
   "cell_type": "code",
   "execution_count": null,
   "metadata": {},
   "outputs": [],
   "source": [
    "test_datagen = DataGenerator(test_df, \n",
    "                              batch_size = 32, \n",
    "                              target_size = (112, 112),\n",
    "                              shuffle = False,\n",
    "                              training = False)"
   ]
  },
  {
   "cell_type": "code",
   "execution_count": null,
   "metadata": {
    "scrolled": true
   },
   "outputs": [],
   "source": [
    "preds = model.predict(test_datagen,\n",
    "                     steps = get_steps(len(test_df), batch_size),\n",
    "                     verbose = 1)"
   ]
  },
  {
   "cell_type": "markdown",
   "metadata": {},
   "source": [
    "## 결과 확인"
   ]
  },
  {
   "cell_type": "code",
   "execution_count": null,
   "metadata": {},
   "outputs": [],
   "source": [
    "import matplotlib.pyplot as plt\n",
    "import cv2\n",
    "\n",
    "# 8개만 예측해보도록 하겠습니다.\n",
    "# 이 예제의 경우 결과가 썩 좋진 않습니다.\n",
    "do_preds = preds[:8]\n",
    "\n",
    "class_col = ['black', 'blue', 'brown', 'green', 'red', 'white', \n",
    "                 'dress', 'shirt', 'pants', 'shorts', 'shoes']\n",
    "\n",
    "for i, pred in enumerate(do_preds):\n",
    "    plt.subplot(2, 4, i + 1)\n",
    "    prob = zip(class_col, list(pred))\n",
    "    prob = sorted(list(prob), key = lambda z: z[1], reverse = True)[:2]\n",
    "    \n",
    "    image = cv2.imread(test_df['image'][i])\n",
    "    image = cv2.cvtColor(image, cv2.COLOR_BGR2RGB)\n",
    "    \n",
    "    plt.imshow(image)\n",
    "    plt.title(f'{prob[0][0]}: {round(prob[0][1] * 100, 2)}% \\n {prob[1][0]}: {round(prob[1][1] * 100, 2)}%')\n",
    "    \n",
    "plt.tight_layout()\n",
    "plt.show()"
   ]
  }
 ],
 "metadata": {
  "kernelspec": {
   "display_name": "jhw",
   "language": "python",
   "name": "jhw"
  },
  "language_info": {
   "codemirror_mode": {
    "name": "ipython",
    "version": 3
   },
   "file_extension": ".py",
   "mimetype": "text/x-python",
   "name": "python",
   "nbconvert_exporter": "python",
   "pygments_lexer": "ipython3",
   "version": "3.8.5"
  }
 },
 "nbformat": 4,
 "nbformat_minor": 2
}
