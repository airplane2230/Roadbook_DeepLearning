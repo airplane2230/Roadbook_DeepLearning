{
 "cells": [
  {
   "cell_type": "markdown",
   "metadata": {},
   "source": [
    "## 간단한 구조의 CNN 모델 살펴보기"
   ]
  },
  {
   "cell_type": "code",
   "execution_count": null,
   "metadata": {},
   "outputs": [],
   "source": [
    "from tensorflow.keras.models import Model\n",
    "from tensorflow.keras.layers import Conv2D, MaxPooling2D, GlobalAveragePooling2D, Dense, Rescaling\n",
    "from tensorflow.keras.layers import Input, Dropout\n",
    "from tensorflow.keras.optimizers import Adam\n",
    "\n",
    "# 각 층이 가지는 여러 가지 하이퍼파라미터에 집중합시다.\n",
    "inputs = Input(shape = (28, 28, 1))\n",
    "\n",
    "x = Conv2D(32, (3, 3), activation = 'relu')(x)\n",
    "x = Conv2D(32, (3, 3), activation = 'relu')(x)\n",
    "x = MaxPooling2D(strides = 2)(x)\n",
    "x = GlobalAveragePooling2D()(x)\n",
    "x = Dense(30, activation = 'relu')(x)\n",
    "x = Dropout(0.5)(x)\n",
    "x = Dense(10, activation = 'softmax')(x)\n",
    "\n",
    "model = Model(inputs = inputs, outputs = x)\n",
    "\n",
    "model.compile(optimizer = Adam(learning_rate = 0.001), \n",
    "              loss = 'categorical_crossentropy',\n",
    "              metrics = ['acc'])"
   ]
  },
  {
   "cell_type": "markdown",
   "metadata": {},
   "source": [
    "## 케라스 튜너 모델 정의하기"
   ]
  },
  {
   "cell_type": "code",
   "execution_count": null,
   "metadata": {},
   "outputs": [],
   "source": [
    "from tensorflow.keras.models import Model\n",
    "from tensorflow.keras.layers import Conv2D, MaxPooling2D, GlobalAveragePooling2D, GlobalMaxPooling2D, Dense, Rescaling\n",
    "from tensorflow.keras.layers import Input, Dropout\n",
    "from tensorflow.keras.optimizers import Adam\n",
    "\n",
    "def build_model(hp):\n",
    "    inputs = Input(shape = (28, 28, 1))\n",
    "    x = inputs\n",
    "\n",
    "    for i in range(hp.Int('n_layers', 1, 3)):\n",
    "        # 필터 개수를 조정합니다.\n",
    "        x = Conv2D(filters = hp.Int('filters_' + str(i), 4, 64, step = 8, default = 16),\n",
    "                    kernel_size = (3, 3), activation = 'relu',\n",
    "                    padding = 'same')(x)\n",
    "        \n",
    "    x = MaxPooling2D(strides = 2)(x)\n",
    "\n",
    "    # GAP? GMP?\n",
    "    if hp.Choice('global_pooling', ['max', 'avg']) == 'avg':\n",
    "        x = GlobalAveragePooling2D()(x)\n",
    "    else:\n",
    "        x = GlobalMaxPooling2D()(x)\n",
    "\n",
    "    # 은닉층의 개수를 조정합니다.\n",
    "    x = Dense(units = hp.Int('units', \n",
    "                             min_value = 16,\n",
    "                             max_value = 128,\n",
    "                             step = 16),\n",
    "              activation = 'relu')(x)\n",
    "    # 드롭아웃률을 조정합니다.\n",
    "    x = Dropout(hp.Choice('dropout_rate', values = [0.2, 0.3, 0.5]))(x)\n",
    "    x = Dense(10, activation = 'softmax')(x)\n",
    "\n",
    "    model = Model(inputs = inputs, outputs = x)\n",
    "    model.compile(optimizer = Adam(hp.Choice('learning_rate', values = [1e-3, 1e-4, 1e-5])),\n",
    "                  loss = 'categorical_crossentropy',\n",
    "                  metrics = ['acc'])\n",
    "\n",
    "    return model"
   ]
  },
  {
   "cell_type": "markdown",
   "metadata": {},
   "source": [
    "## MNIST 데이터셋 준비하기"
   ]
  },
  {
   "cell_type": "code",
   "execution_count": null,
   "metadata": {},
   "outputs": [],
   "source": [
    "from tensorflow.keras.datasets import mnist\n",
    "\n",
    "# 텐서플로우 저장소에서 데이터를 다운로드 받습니다.\n",
    "(x_train, y_train), (x_test, y_test) = mnist.load_data(path = 'mnist.npz')\n",
    "\n",
    "from sklearn.model_selection import train_test_split\n",
    "\n",
    "# 훈련/검증 데이터를 얻기 위해 0.7/0.3의 비율로 분리합니다.\n",
    "x_train, x_val, y_train, y_val = train_test_split(x_train, y_train, \n",
    "                                                  test_size = 0.3, random_state = 777)\n",
    "\n",
    "num_x_train = x_train.shape[0]\n",
    "num_x_val = x_val.shape[0]\n",
    "num_x_test = x_test.shape[0]\n",
    "\n",
    "# 모델의 입력으로 사용하기 위한 전처리 과정입니다.\n",
    "x_train = (x_train.reshape(-1, 28, 28, 1)) / 255\n",
    "x_val = (x_val.reshape(-1, 28, 28, 1)) / 255\n",
    "x_test = (x_test.reshape(-1, 28, 28, 1)) / 255\n",
    "\n",
    "from tensorflow.keras.utils import to_categorical\n",
    "\n",
    "# 각 데이터의 레이블을 범주형 형태로 변경합니다.\n",
    "y_train = to_categorical(y_train)\n",
    "y_val = to_categorical(y_val)\n",
    "y_test = to_categorical(y_test)"
   ]
  },
  {
   "cell_type": "markdown",
   "metadata": {},
   "source": [
    "## RandomSearch 클래스 사용하기"
   ]
  },
  {
   "cell_type": "code",
   "execution_count": null,
   "metadata": {},
   "outputs": [],
   "source": [
    "from kerastuner.tuners import RandomSearch\n",
    "\n",
    "tuner = RandomSearch(build_model,\n",
    "                     objective='val_acc',\n",
    "                     max_trials=5,\n",
    "                     executions_per_trial=3,\n",
    "                     directory='mypath', # 본인의 경로로 수정하세요.\n",
    "                     project_name='helloworld')"
   ]
  },
  {
   "cell_type": "markdown",
   "metadata": {},
   "source": [
    "## 탐색할 하이퍼파라미터 살펴보기"
   ]
  },
  {
   "cell_type": "code",
   "execution_count": null,
   "metadata": {},
   "outputs": [],
   "source": [
    "tuner.search_space_summary()"
   ]
  },
  {
   "cell_type": "markdown",
   "metadata": {},
   "source": [
    "## 하이퍼파라미터 탐색하기"
   ]
  },
  {
   "cell_type": "code",
   "execution_count": null,
   "metadata": {},
   "outputs": [],
   "source": [
    "tuner.search(x=x_train,y=y_train,\n",
    "             epochs=10,\n",
    "             validation_data=(x_val, y_val))"
   ]
  },
  {
   "cell_type": "markdown",
   "metadata": {},
   "source": [
    "## 실험 결과 요약해보기"
   ]
  },
  {
   "cell_type": "code",
   "execution_count": null,
   "metadata": {},
   "outputs": [],
   "source": [
    "tuner.results_summary()"
   ]
  },
  {
   "cell_type": "markdown",
   "metadata": {},
   "source": [
    "## 가장 좋은 성능의 모델 불러오기"
   ]
  },
  {
   "cell_type": "code",
   "execution_count": null,
   "metadata": {},
   "outputs": [],
   "source": [
    "best_model = tuner.get_best_models()[0]\n",
    "best_model.summary()"
   ]
  },
  {
   "cell_type": "markdown",
   "metadata": {},
   "source": [
    "## 모델 하이퍼파라미터 확인하기"
   ]
  },
  {
   "cell_type": "code",
   "execution_count": null,
   "metadata": {},
   "outputs": [],
   "source": [
    "best_hp = tuner.get_best_hyperparameters()[0].values\n",
    "best_hp"
   ]
  },
  {
   "cell_type": "markdown",
   "metadata": {},
   "source": [
    "## HyperResNet 사용하기"
   ]
  },
  {
   "cell_type": "code",
   "execution_count": null,
   "metadata": {},
   "outputs": [],
   "source": [
    "from kerastuner.tuners import Hyperband\n",
    "from kerastuner.applications import HyperResNet\n",
    "\n",
    "hypermodel = HyperResNet(input_shape=(28, 28, 1), classes=10)\n",
    "\n",
    "tuner = Hyperband(hypermodel,\n",
    "                  objective = 'val_accuracy',\n",
    "                  max_epochs = 10,\n",
    "                  directory='./drive/My Drive/tf2.0intro/code/ch9/save_tuner/',\n",
    "                  project_name='helloworld2')"
   ]
  },
  {
   "cell_type": "code",
   "execution_count": null,
   "metadata": {},
   "outputs": [],
   "source": [
    "tuner.search(x_train, y_train, epochs = 10, validation_data = (x_val, y_val))"
   ]
  }
 ],
 "metadata": {
  "kernelspec": {
   "display_name": "tf_2.12",
   "language": "python",
   "name": "tf_2.12"
  },
  "language_info": {
   "codemirror_mode": {
    "name": "ipython",
    "version": 3
   },
   "file_extension": ".py",
   "mimetype": "text/x-python",
   "name": "python",
   "nbconvert_exporter": "python",
   "pygments_lexer": "ipython3",
   "version": "3.10.13"
  }
 },
 "nbformat": 4,
 "nbformat_minor": 2
}
