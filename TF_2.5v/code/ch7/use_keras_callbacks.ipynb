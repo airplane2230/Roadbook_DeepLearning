{
 "cells": [
  {
   "cell_type": "markdown",
   "metadata": {},
   "source": [
    "## 케라스 콜백 사용 준비하기"
   ]
  },
  {
   "cell_type": "code",
   "execution_count": null,
   "metadata": {},
   "outputs": [],
   "source": [
    "from tensorflow.keras.datasets import mnist\n",
    "\n",
    "# 텐서플로우 저장소에서 데이터를 다운로드 받습니다.\n",
    "(x_train, y_train), (x_test, y_test) = mnist.load_data(path = 'mnist.npz')\n",
    "\n",
    "from sklearn.model_selection import train_test_split\n",
    "\n",
    "# 훈련/검증 데이터를 얻기 위해 0.7/0.3의 비율로 분리합니다.\n",
    "x_train, x_val, y_train, y_val = train_test_split(x_train, y_train, \n",
    "                                                  test_size = 0.3, random_state = 777)\n",
    "\n",
    "num_x_train = x_train.shape[0]\n",
    "num_x_val = x_val.shape[0]\n",
    "num_x_test = x_test.shape[0]\n",
    "\n",
    "# 모델의 입력으로 사용하기 위한 전처리 과정입니다.\n",
    "x_train = (x_train.reshape(-1, 28, 28, 1)) / 255\n",
    "x_val = (x_val.reshape(-1, 28, 28, 1)) / 255\n",
    "x_test = (x_test.reshape(-1, 28, 28, 1)) / 255\n",
    "\n",
    "from tensorflow.keras.utils import to_categorical\n",
    "\n",
    "# 각 데이터의 레이블을 범주형 형태로 변경합니다.\n",
    "y_train = to_categorical(y_train)\n",
    "y_val = to_categorical(y_val)\n",
    "y_test = to_categorical(y_test)\n",
    "\n",
    "from tensorflow.keras.models import Model\n",
    "from tensorflow.keras.layers import Conv2D, MaxPooling2D, GlobalAveragePooling2D, Dense\n",
    "from tensorflow.keras.layers import Input\n",
    "\n",
    "# 함수형 API는 Input()을 통해 입력값의 형태를 정의해주어야 합니다.\n",
    "inputs = Input(shape = (28, 28, 1))\n",
    "x = Conv2D(32, (3, 3), activation = 'relu')(inputs)\n",
    "x = Conv2D(32, (3, 3), activation = 'relu')(x)\n",
    "x = MaxPooling2D(strides = 2)(x)\n",
    "x = GlobalAveragePooling2D()(x)\n",
    "x = Dense(10, activation = 'softmax')(x)\n",
    "\n",
    "# 위에서 정의한 층을 포함하고 있는 모델을 생성합니다.\n",
    "model = Model(inputs = inputs, outputs = x)\n",
    "\n",
    "model.compile(optimizer = 'adam', \n",
    "              loss = 'categorical_crossentropy',\n",
    "              metrics = ['acc'])"
   ]
  },
  {
   "cell_type": "markdown",
   "metadata": {},
   "source": [
    "## ModelCheckpoint 콜백 사용하기"
   ]
  },
  {
   "cell_type": "code",
   "execution_count": null,
   "metadata": {
    "scrolled": true
   },
   "outputs": [],
   "source": [
    "from tensorflow.keras.callbacks import ModelCheckpoint\n",
    "\n",
    "filepath = './best_model.hdf5'\n",
    "\n",
    "# 콜백을 정의합니다.\n",
    "callbacks = [ModelCheckpoint(filepath = filepath, monitor = 'val_loss', verbose = 1,\n",
    "                           save_best_only = True)]\n",
    "\n",
    "# callbacks 인자를 통해 정의한 콜백을 전달합니다.\n",
    "model.fit(x_train, y_train,\n",
    "         batch_size = 32,\n",
    "         validation_data = (x_val, y_val),\n",
    "         epochs = 10,\n",
    "         callbacks = callbacks)"
   ]
  },
  {
   "cell_type": "markdown",
   "metadata": {},
   "source": [
    "## EarlyStopping 콜백 사용하기"
   ]
  },
  {
   "cell_type": "code",
   "execution_count": null,
   "metadata": {
    "scrolled": true
   },
   "outputs": [],
   "source": [
    "from tensorflow.keras.callbacks import EarlyStopping\n",
    "\n",
    "# 콜백을 정의합니다.\n",
    "callbacks = [EarlyStopping(monitor = 'val_loss', patience = 3, verbose = 1)]\n",
    "\n",
    "# callbacks 인자를 통해 정의한 콜백을 전달합니다.\n",
    "model.fit(x_train, y_train,\n",
    "         batch_size = 32,\n",
    "         validation_data = (x_val, y_val),\n",
    "         epochs = 30,\n",
    "         callbacks = callbacks)"
   ]
  },
  {
   "cell_type": "markdown",
   "metadata": {},
   "source": [
    "## ReduceLROnPlataeu 콜백 사용하기"
   ]
  },
  {
   "cell_type": "code",
   "execution_count": null,
   "metadata": {},
   "outputs": [],
   "source": [
    "from tensorflow.keras.callbacks import ReduceLROnPlateau\n",
    "\n",
    "# 콜백을 정의합니다.\n",
    "callbacks = [ReduceLROnPlateau(monitor = 'val_loss', patience = 3, factor = 0.2, \n",
    "                               verbose = 1, min_lr = 1e-5)]\n",
    "\n",
    "# callbacks 인자를 통해 정의한 콜백을 전달합니다.\n",
    "model.fit(x_train, y_train,\n",
    "         batch_size = 32,\n",
    "         validation_data = (x_val, y_val),\n",
    "         epochs = 50,\n",
    "         callbacks = callbacks)"
   ]
  },
  {
   "cell_type": "markdown",
   "metadata": {},
   "source": [
    "## TensorBoard 콜백 사용하기"
   ]
  },
  {
   "cell_type": "code",
   "execution_count": null,
   "metadata": {
    "scrolled": true
   },
   "outputs": [],
   "source": [
    "from tensorflow.keras.callbacks import TensorBoard\n",
    "from tensorboard.plugins.hparams import api as hp\n",
    "\n",
    "logdir = './logs'\n",
    "\n",
    "# 콜백을 정의합니다.\n",
    "callbacks = [TensorBoard(log_dir = logdir, histogram_freq = 1, \n",
    "                        write_graph = True, write_images = True),\n",
    "             hp.KerasCallback(logdir, {'num_filters':32})\n",
    "            ]\n",
    "\n",
    "# callbacks 인자를 통해 정의한 콜백을 전달합니다.\n",
    "model.fit(x_train, y_train,\n",
    "         batch_size = 32,\n",
    "         validation_data = (x_val, y_val),\n",
    "         epochs = 1,\n",
    "         callbacks = callbacks)"
   ]
  },
  {
   "cell_type": "markdown",
   "metadata": {},
   "source": [
    "## Tensorboard 실행"
   ]
  },
  {
   "cell_type": "code",
   "execution_count": null,
   "metadata": {},
   "outputs": [],
   "source": [
    "# auth, Refresh Error가 발생할 경우, 명령프롬프트 창에서 tensorboard dev upload --logdir ./logdir를 실행하고\n",
    "# 기기를 연결한뒤 후에 나오는 링크로 실험 결과를 확인할 수 있습니다.\n",
    "# Tensorboard dev는 public입니다. sensitive data 업로드는 경고됩니다.\n",
    "!tensorboard dev upload --logdir ./logs \\\n",
    "--name \"My test\" \\\n",
    "--description \"This is my first tensorboard\""
   ]
  },
  {
   "cell_type": "code",
   "execution_count": null,
   "metadata": {},
   "outputs": [],
   "source": [
    "# 아래 명령어를 실행하면 tensorboard에 upload한 실험을 확인할 수 있습니다.\n",
    "# 해당 링크를 따라가면 실험결과를 보여줍니다.\n",
    "!tensorboard dev list"
   ]
  }
 ],
 "metadata": {
  "kernelspec": {
   "display_name": "tf_2.12",
   "language": "python",
   "name": "tf_2.12"
  },
  "language_info": {
   "codemirror_mode": {
    "name": "ipython",
    "version": 3
   },
   "file_extension": ".py",
   "mimetype": "text/x-python",
   "name": "python",
   "nbconvert_exporter": "python",
   "pygments_lexer": "ipython3",
   "version": "3.10.13"
  }
 },
 "nbformat": 4,
 "nbformat_minor": 2
}
