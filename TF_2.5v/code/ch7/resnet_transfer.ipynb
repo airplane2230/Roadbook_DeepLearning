{
 "cells": [
  {
   "cell_type": "markdown",
   "metadata": {},
   "source": [
    "## ResNet을 활용하여 모델 구성하기"
   ]
  },
  {
   "cell_type": "code",
   "execution_count": null,
   "metadata": {},
   "outputs": [],
   "source": [
    "from tensorflow.keras.applications import ResNet50, InceptionV3\n",
    "from tensorflow.keras.layers import GlobalAveragePooling2D, Dense\n",
    "from tensorflow.keras.models import Model\n",
    "\n",
    "def get_model(num_classes):\n",
    "    # ImageNet으로 학습된 모델을 불러옵니다.\n",
    "    # 각 인자에 대한 설명은 5.4절을 참고하세요.\n",
    "    # inception_v3 = InceptionV3(weights = 'imagenet', include_top = False, input_shape = (32, 32, 3))\n",
    "    resnet = ResNet50(weights = 'imagenet', include_top = False, input_shape = (32, 32, 3))\n",
    "    \n",
    "    # 불러온 모델의 마지막 출력층과 연결합니다. \n",
    "    x = GlobalAveragePooling2D()(resnet.output)\n",
    "    x = Dense(num_classes, activation = 'softmax')(x)\n",
    "    \n",
    "    # 모델을 생성합니다.\n",
    "    model = Model(inputs = resnet.input, outputs = x)\n",
    "    \n",
    "    return model\n",
    "\n",
    "model = get_model(num_classes=10)\n",
    "model.compile(optimizer = 'adam', loss = 'sparse_categorical_crossentropy',\n",
    "              metrics = ['acc'])\n",
    "\n",
    "# 모델 구조를 확인해보세요!\n",
    "# 또는 plot_model()로 그려보아도 좋습니다.\n",
    "# model.summary()"
   ]
  },
  {
   "cell_type": "markdown",
   "metadata": {},
   "source": [
    "## CIFAR-10 학습시켜보기"
   ]
  },
  {
   "cell_type": "code",
   "execution_count": null,
   "metadata": {},
   "outputs": [],
   "source": [
    "from tensorflow.keras.datasets import cifar10\n",
    "import numpy as np\n",
    "\n",
    "(x_train, y_train), (x_test, y_test) = cifar10.load_data()\n",
    "\n",
    "# 평균과 표준편차는 채널별로 구해줍니다.\n",
    "x_mean = np.mean(x_train, axis = (0, 1, 2))\n",
    "x_std = np.std(x_train, axis = (0, 1, 2))\n",
    "\n",
    "x_train = (x_train - x_mean) / x_std\n",
    "x_test = (x_test - x_mean) / x_std\n",
    "\n",
    "from sklearn.model_selection import train_test_split\n",
    "\n",
    "x_train, x_val, y_train, y_val = train_test_split(x_train, y_train, \n",
    "                                                  test_size = 0.3, random_state = 777)\n",
    "\n",
    "print(x_train.shape, len(y_train))\n",
    "print(x_val.shape, len(y_val))\n",
    "\n",
    "# 학습을 진행합니다.\n",
    "history = model.fit(x_train, y_train,\n",
    "                    epochs = 30,\n",
    "                    batch_size = 32,\n",
    "                    validation_data = (x_val, y_val))"
   ]
  }
 ],
 "metadata": {
  "kernelspec": {
   "display_name": "tf_2.12",
   "language": "python",
   "name": "tf_2.12"
  },
  "language_info": {
   "codemirror_mode": {
    "name": "ipython",
    "version": 3
   },
   "file_extension": ".py",
   "mimetype": "text/x-python",
   "name": "python",
   "nbconvert_exporter": "python",
   "pygments_lexer": "ipython3",
   "version": "3.10.13"
  }
 },
 "nbformat": 4,
 "nbformat_minor": 2
}
