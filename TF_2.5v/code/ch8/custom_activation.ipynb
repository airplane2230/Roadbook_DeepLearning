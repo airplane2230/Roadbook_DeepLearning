{
 "cells": [
  {
   "cell_type": "markdown",
   "metadata": {},
   "source": [
    "## Activation 함수에 직접 전달하는 방법"
   ]
  },
  {
   "cell_type": "code",
   "execution_count": null,
   "metadata": {},
   "outputs": [],
   "source": [
    "from tensorflow.keras import backend as K\n",
    "from tensorflow.keras.layers import Input, Dense, Flatten, Activation\n",
    "from tensorflow.keras.models import Model\n",
    "\n",
    "# Activation 함수에 전달하는 방법입니다.\n",
    "def Mish(x):\n",
    "    return x * K.tanh(K.softplus(x))\n",
    "\n",
    "inputs = Input(shape = (28, 28))\n",
    "\n",
    "x = Flatten()(inputs)\n",
    "x = Dense(50)(x)\n",
    "x = Activation(Mish)(x)\n",
    "x = Dense(30)(x)\n",
    "x = Activation(Mish)(x)\n",
    "x = Dense(10, activation = 'softmax')(x)\n",
    "\n",
    "model = Model(inputs = inputs, outputs = x)"
   ]
  },
  {
   "cell_type": "code",
   "execution_count": null,
   "metadata": {},
   "outputs": [],
   "source": [
    "model.summary()"
   ]
  },
  {
   "cell_type": "markdown",
   "metadata": {},
   "source": [
    "## 커스텀 객체 목록을 사용하는 방법 - 1"
   ]
  },
  {
   "cell_type": "code",
   "execution_count": null,
   "metadata": {},
   "outputs": [],
   "source": [
    "import tensorflow.keras.backend as K\n",
    "from tensorflow.keras.layers import Input, Dense, Flatten, Activation\n",
    "from tensorflow.keras.models import Model\n",
    "\n",
    "from tensorflow.keras.utils import get_custom_objects\n",
    "\n",
    "# 단순 클래스를 정의합니다.\n",
    "class Mish(Activation):\n",
    "    def __init__(self, activation, **kwargs):\n",
    "        super(Mish, self).__init__(activation, **kwargs)\n",
    "        self.__name__ = 'Mish'\n",
    "\n",
    "def mish(x):\n",
    "    return x * K.tanh(K.softplus(x))\n",
    "\n",
    "# 케라스의 객체 목록에 해당 함수를 문자열로 등록합니다.\n",
    "get_custom_objects().update({'mish': Mish(mish)})\n",
    "\n",
    "# 문자열로 전달하여 사용하는 방법입니다.\n",
    "inputs = Input(shape = (28, 28))\n",
    "\n",
    "x = Flatten()(inputs)\n",
    "x = Dense(50)(x)\n",
    "x = Activation('mish')(x)\n",
    "x = Dense(30)(x)\n",
    "x = Activation('mish')(x)\n",
    "x = Dense(10, activation = 'softmax')(x)\n",
    "\n",
    "model = Model(inputs = inputs, outputs = x)"
   ]
  },
  {
   "cell_type": "markdown",
   "metadata": {},
   "source": [
    "## 커스텀 객체 목록을 사용하는 방법 - 2"
   ]
  },
  {
   "cell_type": "code",
   "execution_count": null,
   "metadata": {},
   "outputs": [],
   "source": [
    "import tensorflow.keras.backend as K\n",
    "from tensorflow.keras.layers import Input, Dense, Flatten, Activation\n",
    "from tensorflow.keras.models import Model\n",
    "\n",
    "from tensorflow.keras.utils import custom_object_scope\n",
    "\n",
    "def Mish(x):\n",
    "    return x * K.tanh(K.softplus(x))\n",
    "\n",
    "# with 구문을 사용한 커스텀 객체 정의 및 사용\n",
    "with custom_object_scope({'mish':Mish}):\n",
    "    inputs = Input(shape = (28, 28))\n",
    "    \n",
    "    x = Flatten()(inputs)\n",
    "    x = Dense(50)(x)\n",
    "    x = Activation('mish')(x)\n",
    "    x = Dense(30)(x)\n",
    "    x = Activation('mish')(x)\n",
    "    x = Dense(10, activation = 'softmax')(x)\n",
    "\n",
    "# 아래 코드는 에러 발생!\n",
    "# x = Activation(‘mish’)(x)\n",
    "\n",
    "model = Model(inputs = inputs, outputs = x)"
   ]
  },
  {
   "cell_type": "markdown",
   "metadata": {},
   "source": [
    "## RAdam의 존재 알기"
   ]
  },
  {
   "cell_type": "markdown",
   "metadata": {},
   "source": [
    "#### Tensorflow Addon 사용하기\n",
    "\n",
    "+ Tensorflow Addon은 많은 훌륭한 연구자가 발견해낸 방법을 모아놓은 subpackage 형태의 라이브러리입니다.\n",
    "+ 전처리 방법부터 옵티마이저까지 다양한 방법을 제공하고 있으며, 아래 링크에서 더 자세히 알아볼 수 있습니다.\n",
    "+ https://github.com/tensorflow/addons"
   ]
  },
  {
   "cell_type": "code",
   "execution_count": null,
   "metadata": {},
   "outputs": [],
   "source": [
    "# 2022.02.26 테스트 기준, tf 2.6v 이상 작동\n",
    "import tensorflow_addons as tfa # pip install tensorflow-addons\n",
    "\n",
    "model.compile(optimizer = tfa.optimizers.RectifiedAdam(),\n",
    "             loss = 'mse')"
   ]
  },
  {
   "cell_type": "markdown",
   "metadata": {},
   "source": [
    "#### 책 내용"
   ]
  },
  {
   "cell_type": "code",
   "execution_count": null,
   "metadata": {
    "scrolled": true
   },
   "outputs": [],
   "source": [
    "import os\n",
    "os.environ['TF_KERAS'] = '1'\n",
    "\n",
    "from keras_radam import RAdam # pip install keras-rectified-adam\n",
    "\n",
    "model.compile(optimizer = RAdam(name = 'radam'), loss = 'mse')"
   ]
  }
 ],
 "metadata": {
  "kernelspec": {
   "display_name": "jhw",
   "language": "python",
   "name": "jhw"
  },
  "language_info": {
   "codemirror_mode": {
    "name": "ipython",
    "version": 3
   },
   "file_extension": ".py",
   "mimetype": "text/x-python",
   "name": "python",
   "nbconvert_exporter": "python",
   "pygments_lexer": "ipython3",
   "version": "3.8.5"
  }
 },
 "nbformat": 4,
 "nbformat_minor": 2
}
