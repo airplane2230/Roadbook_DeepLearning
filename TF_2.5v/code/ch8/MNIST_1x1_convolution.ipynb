{
 "cells": [
  {
   "cell_type": "markdown",
   "metadata": {},
   "source": [
    "## 컨볼루션 층만으로 구성한 모델 - 1"
   ]
  },
  {
   "cell_type": "code",
   "execution_count": null,
   "metadata": {},
   "outputs": [],
   "source": [
    "from tensorflow.keras.layers import Input, Conv2D, GlobalAveragePooling2D, MaxPooling2D\n",
    "from tensorflow.keras.models import Model\n",
    "\n",
    "inputs = Input(shape = (28, 28, 1))\n",
    "\n",
    "x = Conv2D(32, (3, 3), strides = (1, 1), padding = 'same', activation = 'relu')(inputs)\n",
    "x = MaxPooling2D(strides = (2, 2))(x)\n",
    "x = Conv2D(64, (3, 3), strides = (1, 1), padding = 'same', activation = 'relu')(x)\n",
    "x = MaxPooling2D(strides = (2, 2))(x)\n",
    "x = Conv2D(64, (3, 3), strides = (1, 1), padding = 'same', activation = 'relu')(x)\n",
    "x = MaxPooling2D(strides = (2, 2))(x)\n",
    "\n",
    "# 1x1 컨볼루션을 사용하여,\n",
    "# 모델의 분류기를 구성합니다.\n",
    "x = Conv2D(10, (1, 1), activation = 'softmax')(x)\n",
    "x = GlobalAveragePooling2D()(x)\n",
    "\n",
    "model = Model(inputs = inputs, outputs = x)"
   ]
  },
  {
   "cell_type": "markdown",
   "metadata": {},
   "source": [
    "## 컨볼루션 층만으로 구성한 모델 - 2"
   ]
  },
  {
   "cell_type": "code",
   "execution_count": null,
   "metadata": {},
   "outputs": [],
   "source": [
    "from tensorflow.keras.layers import Input, Conv2D, Reshape\n",
    "from tensorflow.keras.layers import GlobalAveragePooling2D, MaxPooling2D\n",
    "from tensorflow.keras.models import Model\n",
    "\n",
    "inputs = Input(shape = (28, 28, 1))\n",
    "\n",
    "x = Conv2D(32, (3, 3), strides = (1, 1), padding = 'same', activation = 'relu')(inputs)\n",
    "x = MaxPooling2D(strides = (2, 2))(x)\n",
    "x = Conv2D(64, (3, 3), strides = (1, 1), padding = 'same', activation = 'relu')(x)\n",
    "x = MaxPooling2D(strides = (2, 2))(x)\n",
    "x = Conv2D(64, (3, 3), strides = (1, 1), padding = 'same', activation = 'relu')(x)\n",
    "x = MaxPooling2D(strides = (2, 2))(x)\n",
    "x = Conv2D(128, (1, 1), padding = 'same', activation = 'relu')(x)\n",
    "x = GlobalAveragePooling2D()(x)\n",
    "\n",
    "# 1x1 컨볼루션 사용을 위해\n",
    "# Reshape 층을 사용하여 적절히 형태를 변경해줍니다.\n",
    "x = Reshape((1, 1, 128))(x)\n",
    "x = Conv2D(10, (1, 1), padding = 'same', activation = 'softmax')(x)\n",
    "x = Reshape((10,))(x)\n",
    "\n",
    "model = Model(inputs = inputs, outputs = x)"
   ]
  },
  {
   "cell_type": "markdown",
   "metadata": {},
   "source": [
    "## Dense 층 입력 크기에 따른 파라미터 변화 확인"
   ]
  },
  {
   "cell_type": "markdown",
   "metadata": {},
   "source": [
    "+ (1) 기본 모델"
   ]
  },
  {
   "cell_type": "code",
   "execution_count": null,
   "metadata": {},
   "outputs": [],
   "source": [
    "from tensorflow.keras.layers import Input, Conv2D, GlobalAveragePooling2D, MaxPooling2D, Dense, Flatten\n",
    "from tensorflow.keras.models import Model\n",
    "\n",
    "inputs = Input(shape = (55, 55, 1))\n",
    "\n",
    "x = Conv2D(32, (3, 3), strides = (1, 1), padding = 'same', activation = 'relu')(inputs)\n",
    "x = MaxPooling2D(strides = (2, 2))(x)\n",
    "x = Conv2D(64, (3, 3), strides = (1, 1), padding = 'same', activation = 'relu')(x)\n",
    "x = MaxPooling2D(strides = (2, 2))(x)\n",
    "x = Conv2D(64, (3, 3), strides = (1, 1), padding = 'same', activation = 'relu')(x)\n",
    "x = MaxPooling2D(strides = (2, 2))(x)\n",
    "\n",
    "x = Flatten()(x)\n",
    "x = Dense(32, activation = 'sigmoid')(x)\n",
    "x = Dense(10, activation = 'softmax')(x)\n",
    "\n",
    "model = Model(inputs = inputs, outputs = x)\n",
    "model.summary()"
   ]
  },
  {
   "cell_type": "markdown",
   "metadata": {},
   "source": [
    "+ (2) Dense층 사용 + 입력 크기 감소"
   ]
  },
  {
   "cell_type": "code",
   "execution_count": null,
   "metadata": {},
   "outputs": [],
   "source": [
    "from tensorflow.keras.layers import Input, Conv2D, GlobalAveragePooling2D, MaxPooling2D, Dense\n",
    "from tensorflow.keras.models import Model\n",
    "\n",
    "inputs = Input(shape = (24, 24, 1))\n",
    "\n",
    "x = Conv2D(32, (3, 3), strides = (1, 1), padding = 'same', activation = 'relu')(inputs)\n",
    "x = MaxPooling2D(strides = (2, 2))(x)\n",
    "x = Conv2D(64, (3, 3), strides = (1, 1), padding = 'same', activation = 'relu')(x)\n",
    "x = MaxPooling2D(strides = (2, 2))(x)\n",
    "x = Conv2D(64, (3, 3), strides = (1, 1), padding = 'same', activation = 'relu')(x)\n",
    "x = MaxPooling2D(strides = (2, 2))(x)\n",
    "\n",
    "x = Flatten()(x)\n",
    "x = Dense(32, activation = 'sigmoid')(x)\n",
    "x = Dense(10, activation = 'softmax')(x)\n",
    "\n",
    "model = Model(inputs = inputs, outputs = x)\n",
    "model.summary()"
   ]
  },
  {
   "cell_type": "markdown",
   "metadata": {},
   "source": [
    "+ (3) Convolution만으로 구성"
   ]
  },
  {
   "cell_type": "code",
   "execution_count": null,
   "metadata": {},
   "outputs": [],
   "source": [
    "from tensorflow.keras.layers import Input, Conv2D, GlobalAveragePooling2D, MaxPooling2D, Dense\n",
    "from tensorflow.keras.models import Model\n",
    "\n",
    "inputs = Input(shape = (24, 24, 1))\n",
    "\n",
    "x = Conv2D(32, (3, 3), strides = (1, 1), padding = 'same', activation = 'relu')(inputs)\n",
    "x = MaxPooling2D(strides = (2, 2))(x)\n",
    "x = Conv2D(64, (3, 3), strides = (1, 1), padding = 'same', activation = 'relu')(x)\n",
    "x = MaxPooling2D(strides = (2, 2))(x)\n",
    "x = Conv2D(64, (3, 3), strides = (1, 1), padding = 'same', activation = 'relu')(x)\n",
    "x = MaxPooling2D(strides = (2, 2))(x)\n",
    "x = Conv2D(64, (1, 1), strides = (1, 1), padding = 'same', activation = 'relu')(x)\n",
    "x = Conv2D(10, (1, 1),strides = (1, 1), padding = 'same', activation = 'softmax')(x)\n",
    "\n",
    "model = Model(inputs = inputs, outputs = x)\n",
    "model.summary()"
   ]
  }
 ],
 "metadata": {
  "kernelspec": {
   "display_name": "jhw",
   "language": "python",
   "name": "jhw"
  },
  "language_info": {
   "codemirror_mode": {
    "name": "ipython",
    "version": 3
   },
   "file_extension": ".py",
   "mimetype": "text/x-python",
   "name": "python",
   "nbconvert_exporter": "python",
   "pygments_lexer": "ipython3",
   "version": "3.8.5"
  }
 },
 "nbformat": 4,
 "nbformat_minor": 2
}
