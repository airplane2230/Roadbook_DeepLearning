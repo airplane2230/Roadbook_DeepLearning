{
 "cells": [
  {
   "cell_type": "markdown",
   "metadata": {},
   "source": [
    "## <span style=\"color:orange\">Q1.</span>\n",
    "<b>케라스의 개발 과정을 활용하여 단층 퍼셉트론으로 XOR 게이트 문제에 대해 적은 횟수의 에폭으로 학습시켜보고,  \n",
    "evaluate(), predict() 함수를 통해 결과를 출력해보세요. 아마 학습되지 않을 것입니다.<br>  \n",
    "잘 학습시키기 위한 방법도 중요하지만, 학습되지 않는 경우를 체험해보는 것도 중요한 경험입니다.</b>\n",
    "<hr>"
   ]
  },
  {
   "cell_type": "code",
   "execution_count": null,
   "metadata": {},
   "outputs": [],
   "source": [
    "import tensorflow as tf\n",
    "import numpy as np\n",
    "\n",
    "from tensorflow.keras.models import Sequential\n",
    "from tensorflow.keras.layers import Dense\n",
    "from tensorflow.keras.optimizers import SGD\n",
    "from tensorflow.keras.losses import mse\n",
    "\n",
    "tf.random.set_seed(777) # 시드를 설정합니다.\n",
    "\n",
    "# 데이터 준비하기\n",
    "x = np.array([[0, 0], [1, 0], [0, 1], [1, 1]])\n",
    "y = np.array([[0], [1], [1], [0]])\n",
    "\n",
    "# 모델 구성하기\n",
    "model = Sequential()\n",
    "# 단층 퍼셉트론을 구성합니다.\n",
    "model.add(Dense(1, input_shape = (2, ), activation = 'linear'))\n",
    "\n",
    "# 모델 준비하기\n",
    "model.compile(optimizer = SGD(),\n",
    "              loss = mse,\n",
    "              metrics = ['acc']) # list 형태로 평가지표를 전달합니다.\n",
    "\n",
    "model.fit(x, y, epochs = 100)"
   ]
  },
  {
   "cell_type": "code",
   "execution_count": null,
   "metadata": {},
   "outputs": [],
   "source": [
    "# evaluate(): 평가를 진행합니다\n",
    "model.evaluate(x, y)\n",
    "\n",
    "# predict(): 예측을 진행합니다.\n",
    "preds = model.predict(x)\n",
    "for a, b in zip(preds, y):\n",
    "    print(f\"예측값 {a} - 정답 {b}\")"
   ]
  }
 ],
 "metadata": {
  "kernelspec": {
   "display_name": "keras_study",
   "language": "python",
   "name": "keras_study"
  },
  "language_info": {
   "codemirror_mode": {
    "name": "ipython",
    "version": 3
   },
   "file_extension": ".py",
   "mimetype": "text/x-python",
   "name": "python",
   "nbconvert_exporter": "python",
   "pygments_lexer": "ipython3",
   "version": "3.7.3"
  }
 },
 "nbformat": 4,
 "nbformat_minor": 2
}
