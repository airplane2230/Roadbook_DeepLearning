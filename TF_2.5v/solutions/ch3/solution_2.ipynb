{
 "cells": [
  {
   "cell_type": "markdown",
   "metadata": {},
   "source": [
    "## <span style=\"color:orange\">Q2.</span>\n",
    "<b><span style=\"color:red\"><b>학습률은 최적값을 찾기 위해 필수적으로 조정해야 할 '하이퍼파라미터'입니다.</span>  \n",
    "학습률의 설명에서 낮은 크기의 학습률은 학습 속도가 굉장히 느려질 수 있고, 높은 크기의 학습률은 학습이 되지 않을 수 있다고 했습니다.<br>  \n",
    "XOR 게이트 문제에서 다양한 학습률을 사용하여 학습 속도와 학습 여부를 확인해보도록 합니다.  \n",
    "매우 큰 학습률 0.1 또는 매우 작은 학습률 0.0000001과 같이 극단적인 학습률을 사용하여 최종 결과까지 도출해보세요.</b>\n",
    "<hr>"
   ]
  },
  {
   "cell_type": "code",
   "execution_count": null,
   "metadata": {},
   "outputs": [],
   "source": [
    "import tensorflow as tf\n",
    "import numpy as np\n",
    "\n",
    "from tensorflow.keras.models import Sequential\n",
    "from tensorflow.keras.layers import Dense\n",
    "from tensorflow.keras.optimizers import SGD\n",
    "from tensorflow.keras.losses import mse\n",
    "\n",
    "tf.random.set_seed(777) # 시드를 설정합니다.\n",
    "\n",
    "# 데이터 준비하기\n",
    "x = np.array([[0, 0], [1, 0], [0, 1], [1, 1]])\n",
    "y = np.array([[0], [1], [1], [0]])\n",
    "\n",
    "# 모델 구성하기\n",
    "model = Sequential()\n",
    "# 단층 퍼셉트론을 구성합니다.\n",
    "model.add(Dense(1, input_shape = (2, ), activation = 'linear'))\n",
    "\n",
    "# 모델 준비하기\n",
    "# 바꿔가면서 실험해보고, loss 값의 변화도 확인해보세요.\n",
    "big_lr = 0.9\n",
    "small_lr = 1e-10\n",
    "model.compile(optimizer = SGD(big_lr),\n",
    "              loss = mse,\n",
    "              metrics = ['acc']) # list 형태로 평가지표를 전달합니다.\n",
    "\n",
    "model.fit(x, y, epochs = 30)"
   ]
  }
 ],
 "metadata": {
  "kernelspec": {
   "display_name": "keras_study",
   "language": "python",
   "name": "keras_study"
  },
  "language_info": {
   "codemirror_mode": {
    "name": "ipython",
    "version": 3
   },
   "file_extension": ".py",
   "mimetype": "text/x-python",
   "name": "python",
   "nbconvert_exporter": "python",
   "pygments_lexer": "ipython3",
   "version": "3.7.3"
  }
 },
 "nbformat": 4,
 "nbformat_minor": 2
}
