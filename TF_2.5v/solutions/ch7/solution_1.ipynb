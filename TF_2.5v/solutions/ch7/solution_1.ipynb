{
 "cells": [
  {
   "cell_type": "markdown",
   "metadata": {},
   "source": [
    "## <span style=\"color:orange\">Q1.</span>\n",
    "<b>이진 분류 문제, 빙산과 선박을 구별하는 캐글 대회 참여하기\n",
    "+ 이 책은 코드와 데이터에 대한 어떠한 내용도 제공하지 않습니다.\n",
    "+ 캐글에 'Statoil/C-CORE Iceberg Classifier Challenge'를 검색하세요!\n",
    "+ 이 장에서는 다중 입력 모델을 구성하여 결과를 제출하세요!\n",
    "<hr>\n",
    "\n",
    "+ 다음 장으로 넘어가기 전에 꼭 결과를 제출해보시길 바랍니다.\n",
    "</b>"
   ]
  }
 ],
 "metadata": {
  "kernelspec": {
   "display_name": "Python 3",
   "language": "python",
   "name": "python3"
  },
  "language_info": {
   "codemirror_mode": {
    "name": "ipython",
    "version": 3
   },
   "file_extension": ".py",
   "mimetype": "text/x-python",
   "name": "python",
   "nbconvert_exporter": "python",
   "pygments_lexer": "ipython3",
   "version": "3.7.3"
  }
 },
 "nbformat": 4,
 "nbformat_minor": 2
}
