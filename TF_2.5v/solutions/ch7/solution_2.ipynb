{
 "cells": [
  {
   "cell_type": "markdown",
   "metadata": {},
   "source": [
    "## <span style=\"color:orange\">Q2.</span><br>\n",
    "\n",
    "<b>\n",
    "(번외) <span style=\"color:red\">EfficientNet</span>은 발표 시점을 기준으로 ImageNet 데이터셋에서 이전에 사용되고 있던 모델의 성능을 모두 뛰어넘었습니다.\n",
    "    \n",
    "동시에 ‘효율성’이라는 장점을 잃지 않아 많은 관심을 받은 모델입니다.  \n",
    "이에 대해 알아보고, 구현을 시도해보세요. 큰 도움이 될 것입니다.  \n",
    "<br></br>\n",
    "<span style=\"color:blue\">\n",
    "논문 명: Efficientnet: Rethinking model scaling for convolutional neural networks\n",
    "</span>\n",
    "\n",
    "+ 이번 문제 해답은 깃허브 링크로 대체합니다.  \n",
    "+ 꼭 직접 구현하지 않아도 좋습니다.  \n",
    "+ 대신, EfficientNet에 사용된 테크닉과 '아! 이런게 있고, 많이 활용되고 있구나~'를 얻어가시길 바랍니다.\n",
    "</b>\n",
    "<hr>"
   ]
  },
  {
   "cell_type": "markdown",
   "metadata": {},
   "source": [
    "- 링크의 only_models 폴더를 참조하세요.\n",
    "- https://github.com/airplane2230/keras_Model_for_Beginner.git"
   ]
  }
 ],
 "metadata": {
  "kernelspec": {
   "display_name": "keras_study",
   "language": "python",
   "name": "keras_study"
  },
  "language_info": {
   "codemirror_mode": {
    "name": "ipython",
    "version": 3
   },
   "file_extension": ".py",
   "mimetype": "text/x-python",
   "name": "python",
   "nbconvert_exporter": "python",
   "pygments_lexer": "ipython3",
   "version": "3.7.3"
  }
 },
 "nbformat": 4,
 "nbformat_minor": 2
}
