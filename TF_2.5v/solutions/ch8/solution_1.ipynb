{
 "cells": [
  {
   "cell_type": "markdown",
   "metadata": {},
   "source": [
    "## <span style=\"color:blue\">논문 구현해보기 </span>  <br></br>\n",
    "\n",
    "<b>\n",
    "이번 장에서는 두 가지 모델을 구현해보겠습니다.\n",
    "\n",
    "VGG16과 MobileNet 모델은 이미 매우 유명한 모델이기 때문에  \n",
    "모델 구현에 어려움이 있을 경우 조금만 검색해보아도 큰 도움이 되는 많은 글을 만나볼 수 있습니다.  \n",
    "\n",
    "하지만 멋진 글을 찾아보기 이전에 논문과 코드를 참고하여 구현해보세요.  \n",
    "<span style=\"color:red\">VGG16 모델은 컨볼루션층과 최대 풀링층으로 이루어진 매우 단순한 모델</span>이며,   \n",
    "<span style=\"color:red\">MobileNet 모델은 모바일 애플리케이션에서 사용하기 위해 제안된 경량 모델</span>입니다.  \n",
    "파라미터 감소를 위해 많은 1×1 컨볼루션이 사용되었습니다.\n",
    "<b>\n",
    "### <span style=\"color:blue\"><b>Hint!</b></span><br>\n",
    "\n",
    "Papers With Code 사이트를 참고하세요. 해당 논문의 제목을 검색하면 코드와 논문을 만나볼 수 있습니다.<br>\n",
    "\n",
    "• VGG16 논문명: Very Deep Convolutional Networks For Large-Scale Image Recognition<br>\n",
    "• VGG16 논문 Table 1의 D를 참고합니다.<br>\n",
    "\n",
    "• MobileNet V1 논문명: MobileNets: Efficient Convolutional Neural Networks for Mobile Vision Applications<br>\n",
    "• MobileNet 논문의 Table 1을 참고합니다.\n",
    "<hr>\n",
    "\n",
    "## <span style=\"color:orange\">Q1.</span>\n",
    "위의 모델을 구현했다면, MNIST 데이터셋을 학습시켜보고 결과를 도출해보세요!\n",
    "\n",
    "- 링크의 only_models 폴더를 참조하세요.\n",
    "- https://github.com/airplane2230/keras_Model_for_Beginner.git"
   ]
  }
 ],
 "metadata": {
  "kernelspec": {
   "display_name": "Python 3",
   "language": "python",
   "name": "python3"
  },
  "language_info": {
   "codemirror_mode": {
    "name": "ipython",
    "version": 3
   },
   "file_extension": ".py",
   "mimetype": "text/x-python",
   "name": "python",
   "nbconvert_exporter": "python",
   "pygments_lexer": "ipython3",
   "version": "3.7.3"
  }
 },
 "nbformat": 4,
 "nbformat_minor": 2
}
