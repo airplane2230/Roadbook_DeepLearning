{
 "cells": [
  {
   "cell_type": "markdown",
   "metadata": {},
   "source": [
    "## <span style=\"color:orange\">Q4.</span>\n",
    "<b>보통 캐글을 시작한다고 하면 <span style=\"color:red\">생존자를 예측하는 타이타닉 문제(https://www.kaggle.com/c/titanic)</span>를 떠올립니다.  \n",
    "데이터 분석부터 모델 학습 및 결과 도출까지의 전과정을 쉽게 경험해볼 수 있는 매우 유명한 문제입니다.  \n",
    "\n",
    "난이도도 쉬운 편에 속하니 타이타닉 문제를 경험해보는 것은 어떨까요?  \n",
    "첫 시작이 어렵다면, 이미 수많은 분석가가 캐글 노트북에 멋진 분석 방법을 작성하여 공유하고 있습니다.  \n",
    "이를 참고하여 시작해보는 것도 좋은 방법입니다.</b>"
   ]
  }
 ],
 "metadata": {
  "kernelspec": {
   "display_name": "keras_study",
   "language": "python",
   "name": "keras_study"
  },
  "language_info": {
   "codemirror_mode": {
    "name": "ipython",
    "version": 3
   },
   "file_extension": ".py",
   "mimetype": "text/x-python",
   "name": "python",
   "nbconvert_exporter": "python",
   "pygments_lexer": "ipython3",
   "version": "3.7.3"
  }
 },
 "nbformat": 4,
 "nbformat_minor": 2
}
