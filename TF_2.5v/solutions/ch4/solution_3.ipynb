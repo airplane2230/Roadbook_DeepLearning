{
 "cells": [
  {
   "cell_type": "markdown",
   "metadata": {},
   "source": [
    "## <span style=\"color:orange\">Q3.</span>\n",
    "\n",
    "<b>[캐글을 통해 능력 향상시키기] 이진 분류 문제, 빙산과 선박을 구별하는 캐글 대회 참여하기\n",
    "+ 이 책은 코드와 데이터대한 어떠한 내용도 제공하지 않습니다\n",
    "+ 캐글에 'Statoil/C-CORE Iceberg Classifier Challenge'를 검색하세요!\n",
    "+ 이 장에서는 Dense층만 사용하여 결과를 제출하세요.\n",
    "</b>"
   ]
  },
  {
   "cell_type": "markdown",
   "metadata": {},
   "source": [
    "+ <b>꼭 캐글 문제를 해결해보고 다음 장을 진행해주세요.</b>\n",
    "+ <b>책의 내용을 직접 사용해보아야 합니다.</b>"
   ]
  }
 ],
 "metadata": {
  "kernelspec": {
   "display_name": "keras_study",
   "language": "python",
   "name": "keras_study"
  },
  "language_info": {
   "codemirror_mode": {
    "name": "ipython",
    "version": 3
   },
   "file_extension": ".py",
   "mimetype": "text/x-python",
   "name": "python",
   "nbconvert_exporter": "python",
   "pygments_lexer": "ipython3",
   "version": "3.7.3"
  }
 },
 "nbformat": 4,
 "nbformat_minor": 2
}
