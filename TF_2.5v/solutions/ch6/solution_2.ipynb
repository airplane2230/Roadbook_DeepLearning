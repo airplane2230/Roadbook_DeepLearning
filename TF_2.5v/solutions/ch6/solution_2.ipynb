{
 "cells": [
  {
   "cell_type": "markdown",
   "metadata": {},
   "source": [
    "## <span style=\"color:orange\">Q2.</span>\n",
    "<b>RNN과 LSTM을 설명하면서 <span style=\"color:red\">GRU와 Bidirectional RNN</span>을 언급했습니다.  \n",
    "reuters 데이터셋 문제에 이를 활용하여 문제를 해결해보기 바랍니다.  \n",
    "역시 우리의 케라스는 이러한 층을제공하고 있으니 사용하기에 어렵진 않을 것입니다.</b>\n",
    "<hr>"
   ]
  },
  {
   "cell_type": "markdown",
   "metadata": {},
   "source": [
    "+ 층만 변경하면 되는 간단한 문제입니다.\n",
    "+ 답을 보기전에 공식문서를 보고 층을 직접 구성해보세요.\n",
    "+ 층의 개념적 설명을 제공하지 않으니, \n",
    "+ 꼭 사용방법뿐만 아니라 해당 층의 개념을 찾아보세요."
   ]
  },
  {
   "cell_type": "markdown",
   "metadata": {},
   "source": [
    "#### GRU 사용하기"
   ]
  },
  {
   "cell_type": "code",
   "execution_count": null,
   "metadata": {},
   "outputs": [],
   "source": [
    "from tensorflow.keras.datasets import imdb\n",
    "\n",
    "num_words = 10000\n",
    "(X_train, y_train), (X_test, y_test) = imdb.load_data(num_words=num_words)\n",
    "\n",
    "from tensorflow.keras.preprocessing.sequence import pad_sequences\n",
    "\n",
    "max_len = 350\n",
    "\n",
    "pad_X_train = pad_sequences(X_train, maxlen=max_len)\n",
    "pad_X_test = pad_sequences(X_test, maxlen=max_len)\n",
    "\n",
    "from tensorflow.keras.models import Sequential\n",
    "from tensorflow.keras.layers import GRU, Dense, Embedding  \n",
    "\n",
    "model = Sequential()\n",
    "model.add(Embedding(input_dim = num_words, output_dim = 32))\n",
    "model.add(GRU(64, return_sequences = True))\n",
    "model.add(GRU(64, return_sequences = True))\n",
    "model.add(GRU(32))\n",
    "model.add(Dense(1, activation = 'sigmoid'))\n",
    "\n",
    "model.compile(optimizer='adam',\n",
    "             loss = 'binary_crossentropy',\n",
    "             metrics = ['acc'])"
   ]
  },
  {
   "cell_type": "code",
   "execution_count": null,
   "metadata": {
    "scrolled": true
   },
   "outputs": [],
   "source": [
    "model.summary() # 모델 구조를 확인하세요"
   ]
  },
  {
   "cell_type": "code",
   "execution_count": null,
   "metadata": {},
   "outputs": [],
   "source": [
    "history = model.fit(pad_X_train, y_train, \n",
    "                    batch_size = 32, epochs = 15, \n",
    "                    validation_split = 0.2)"
   ]
  },
  {
   "cell_type": "markdown",
   "metadata": {},
   "source": [
    "#### Bidirectional RNN 사용하기"
   ]
  },
  {
   "cell_type": "code",
   "execution_count": null,
   "metadata": {},
   "outputs": [],
   "source": [
    "from tensorflow.keras.datasets import imdb\n",
    "\n",
    "num_words = 10000\n",
    "(X_train, y_train), (X_test, y_test) = imdb.load_data(num_words=num_words)\n",
    "\n",
    "from tensorflow.keras.preprocessing.sequence import pad_sequences\n",
    "\n",
    "max_len = 350\n",
    "\n",
    "pad_X_train = pad_sequences(X_train, maxlen=max_len)\n",
    "pad_X_test = pad_sequences(X_test, maxlen=max_len)\n",
    "\n",
    "from tensorflow.keras.models import Sequential\n",
    "from tensorflow.keras.layers import LSTM, Bidirectional, Dense, Embedding  \n",
    "\n",
    "model = Sequential()\n",
    "model.add(Embedding(input_dim = num_words, output_dim = 32))\n",
    "model.add(Bidirectional(LSTM(64, return_sequences = True)))\n",
    "model.add(Bidirectional(LSTM(64, return_sequences = True)))\n",
    "model.add(Bidirectional(LSTM(64)))\n",
    "model.add(Dense(1, activation = 'sigmoid'))\n",
    "\n",
    "model.compile(optimizer='adam',\n",
    "             loss = 'binary_crossentropy',\n",
    "             metrics = ['acc'])"
   ]
  },
  {
   "cell_type": "code",
   "execution_count": null,
   "metadata": {},
   "outputs": [],
   "source": [
    "model.summary() # 모델 구조를 확인하세요"
   ]
  },
  {
   "cell_type": "code",
   "execution_count": null,
   "metadata": {},
   "outputs": [],
   "source": [
    "history = model.fit(pad_X_train, y_train, \n",
    "                    batch_size = 32, epochs = 15, \n",
    "                    validation_split = 0.2)"
   ]
  }
 ],
 "metadata": {
  "kernelspec": {
   "display_name": "Python 3",
   "language": "python",
   "name": "python3"
  },
  "language_info": {
   "codemirror_mode": {
    "name": "ipython",
    "version": 3
   },
   "file_extension": ".py",
   "mimetype": "text/x-python",
   "name": "python",
   "nbconvert_exporter": "python",
   "pygments_lexer": "ipython3",
   "version": "3.7.3"
  }
 },
 "nbformat": 4,
 "nbformat_minor": 2
}
