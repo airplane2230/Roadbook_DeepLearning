{
 "cells": [
  {
   "cell_type": "markdown",
   "metadata": {},
   "source": [
    "## 캐글 데이터셋 링크\n",
    "\n",
    "+ original: https://www.kaggle.com/trolukovich/apparel-images-dataset\n",
    "+ me: https://www.kaggle.com/airplane2230/apparel-image-dataset-2"
   ]
  },
  {
   "cell_type": "code",
   "execution_count": null,
   "metadata": {},
   "outputs": [],
   "source": [
    "import numpy as np\n",
    "import pandas as pd\n",
    "import tensorflow as tf\n",
    "import glob as glob\n",
    "import cv2\n",
    "\n",
    "all_data = np.array(glob.glob('./clothes_dataset/*/*.jpg', recursive=True))\n",
    "\n",
    "# 색과 옷의 종류를 구별하기 위해 해당되는 label에 1을 삽입합니다.\n",
    "def check_cc(color, clothes):\n",
    "    labels = np.zeros(11,)\n",
    "    \n",
    "    # color check\n",
    "    if(color == 'black'):\n",
    "        labels[0] = 1\n",
    "        color_index = 0\n",
    "    elif(color == 'blue'):\n",
    "        labels[1] = 1\n",
    "        color_index = 1\n",
    "    elif(color == 'brown'):\n",
    "        labels[2] = 1\n",
    "        color_index = 2\n",
    "    elif(color == 'green'):\n",
    "        labels[3] = 1\n",
    "        color_index = 3\n",
    "    elif(color == 'red'):\n",
    "        labels[4] = 1\n",
    "        color_index = 4\n",
    "    elif(color == 'white'):\n",
    "        labels[5] = 1\n",
    "        color_index = 5\n",
    "        \n",
    "    # clothes check\n",
    "    if(clothes == 'dress'):\n",
    "        labels[6] = 1\n",
    "    elif(clothes == 'shirt'):\n",
    "        labels[7] = 1\n",
    "    elif(clothes == 'pants'):\n",
    "        labels[8] = 1\n",
    "    elif(clothes == 'shorts'):\n",
    "        labels[9] = 1\n",
    "    elif(clothes == 'shoes'):\n",
    "        labels[10] = 1\n",
    "        \n",
    "    return labels, color_index\n",
    "\n",
    "# label과 color_label을 담을 배열을 선언합니다.\n",
    "all_labels = np.empty((all_data.shape[0], 11))\n",
    "all_color_labels = np.empty((all_data.shape[0], 1))\n",
    "\n",
    "for i, data in enumerate(all_data):\n",
    "    color_and_clothes = all_data[i].split('\\\\')[1].split('_')\n",
    "    color = color_and_clothes[0]\n",
    "    clothes = color_and_clothes[1]\n",
    "    \n",
    "    labels, color_index = check_cc(color, clothes)\n",
    "    all_labels[i] = labels; all_color_labels[i] = color_index\n",
    "    \n",
    "all_labels = np.concatenate((all_labels, all_color_labels), axis = -1)"
   ]
  },
  {
   "cell_type": "code",
   "execution_count": null,
   "metadata": {},
   "outputs": [],
   "source": [
    "from sklearn.model_selection import train_test_split\n",
    "\n",
    "# 훈련, 검증, 테스트 데이터셋으로 나눕니다.\n",
    "train_x, test_x, train_y, test_y = train_test_split(all_data, all_labels, shuffle = True, test_size = 0.3,\n",
    "                                                   random_state = 99)\n",
    "train_x, val_x, train_y, val_y = train_test_split(train_x, train_y, shuffle = True, test_size = 0.3,\n",
    "                                                 random_state = 99)"
   ]
  },
  {
   "cell_type": "code",
   "execution_count": null,
   "metadata": {},
   "outputs": [],
   "source": [
    "train_df = pd.DataFrame({'image':train_x, 'black':train_y[:, 0], 'blue':train_y[:, 1],\n",
    "                        'brown':train_y[:, 2], 'green':train_y[:, 3], 'red':train_y[:, 4],\n",
    "                        'white':train_y[:, 5], 'dress':train_y[:, 6], 'shirt':train_y[:, 7],\n",
    "                        'pants':train_y[:, 8], 'shorts':train_y[:, 9], 'shoes':train_y[:, 10],\n",
    "                        'color':train_y[:, 11]})\n",
    "\n",
    "val_df = pd.DataFrame({'image':val_x, 'black':val_y[:, 0], 'blue':val_y[:, 1],\n",
    "                        'brown':val_y[:, 2], 'green':val_y[:, 3], 'red':val_y[:, 4],\n",
    "                        'white':val_y[:, 5], 'dress':val_y[:, 6], 'shirt':val_y[:, 7],\n",
    "                        'pants':val_y[:, 8], 'shorts':val_y[:, 9], 'shoes':val_y[:, 10],\n",
    "                        'color':val_y[:, 11]})\n",
    "\n",
    "test_df = pd.DataFrame({'image':test_x, 'black':test_y[:, 0], 'blue':test_y[:, 1],\n",
    "                        'brown':test_y[:, 2], 'green':test_y[:, 3], 'red':test_y[:, 4],\n",
    "                        'white':test_y[:, 5], 'dress':test_y[:, 6], 'shirt':test_y[:, 7],\n",
    "                        'pants':test_y[:, 8], 'shorts':test_y[:, 9], 'shoes':test_y[:, 10],\n",
    "                        'color':test_y[:, 11]})"
   ]
  },
  {
   "cell_type": "markdown",
   "metadata": {},
   "source": [
    "## 색 정보 제공 X"
   ]
  },
  {
   "cell_type": "code",
   "execution_count": null,
   "metadata": {},
   "outputs": [],
   "source": [
    "train_df.to_csv('./csv_data/nocolorinfo/train.csv')\n",
    "val_df.to_csv('./csv_data/nocolorinfo/val.csv')\n",
    "test_df.to_csv('./csv_data/nocolorinfo/test.csv')"
   ]
  },
  {
   "cell_type": "markdown",
   "metadata": {},
   "source": [
    "## 색 정보 제공 O"
   ]
  },
  {
   "cell_type": "code",
   "execution_count": null,
   "metadata": {},
   "outputs": [],
   "source": [
    "train_df.to_csv('./csv_data/colorinfo/train_color.csv')\n",
    "val_df.to_csv('./csv_data/colorinfo/val_color.csv')\n",
    "test_df.to_csv('./csv_data/colorinfo/test_color.csv')"
   ]
  }
 ],
 "metadata": {
  "kernelspec": {
   "display_name": "tf_2.12",
   "language": "python",
   "name": "tf_2.12"
  },
  "language_info": {
   "codemirror_mode": {
    "name": "ipython",
    "version": 3
   },
   "file_extension": ".py",
   "mimetype": "text/x-python",
   "name": "python",
   "nbconvert_exporter": "python",
   "pygments_lexer": "ipython3",
   "version": "3.10.13"
  }
 },
 "nbformat": 4,
 "nbformat_minor": 2
}
