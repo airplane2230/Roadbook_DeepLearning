{
 "cells": [
  {
   "cell_type": "markdown",
   "metadata": {},
   "source": [
    "## 데이터 불러오기"
   ]
  },
  {
   "cell_type": "code",
   "execution_count": null,
   "metadata": {},
   "outputs": [],
   "source": [
    "import pandas as pd\n",
    "\n",
    "DATA_PATH = './csv_data/nocolorinfo'\n",
    "\n",
    "train_df = pd.read_csv(DATA_PATH + '/train.csv')\n",
    "val_df = pd.read_csv(DATA_PATH + '/val.csv')\n",
    "test_df = pd.read_csv(DATA_PATH + '/test.csv')\n",
    "\n",
    "# Colab에서 사용한다면, 다음 코드 주석을 풀고, 실행시킵니다.\n",
    "# 또한, Colab에서 사용하는 경우, file reading 속도가 매우 느릴 수 있다는 점에 주의하세요.\n",
    "# train_df['image'] = train_df['image'].apply(lambda x: str(x).replace('\\\\', '/'))\n",
    "# val_df['image'] = val_df['image'].apply(lambda x: str(x).replace('\\\\', '/'))\n",
    "# test_df['image'] = test_df['image'].apply(lambda x: str(x).replace('\\\\', '/'))\n",
    "\n",
    "train_df.head()"
   ]
  },
  {
   "cell_type": "markdown",
   "metadata": {},
   "source": [
    "## 이미지 제네레이터 정의하기"
   ]
  },
  {
   "cell_type": "code",
   "execution_count": null,
   "metadata": {},
   "outputs": [],
   "source": [
    "from tensorflow.keras.preprocessing.image import ImageDataGenerator\n",
    "\n",
    "# 이미지 제네레이터를 정의합니다.\n",
    "train_datagen = ImageDataGenerator(rescale = 1./255)\n",
    "val_datagen = ImageDataGenerator(rescale = 1./255)\n",
    "\n",
    "def get_steps(num_samples, batch_size):\n",
    "    if (num_samples % batch_size) > 0 :\n",
    "        return (num_samples // batch_size) + 1\n",
    "    else :\n",
    "        return num_samples // batch_size"
   ]
  },
  {
   "cell_type": "markdown",
   "metadata": {},
   "source": [
    "## 모델 구성하기"
   ]
  },
  {
   "cell_type": "code",
   "execution_count": null,
   "metadata": {},
   "outputs": [],
   "source": [
    "from tensorflow.keras.models import Sequential\n",
    "from tensorflow.keras.layers import Dense, Flatten\n",
    "\n",
    "model = Sequential()\n",
    "\n",
    "# 입력 데이터의 형태를 꼭 명시해야 합니다.\n",
    "model.add(Flatten(input_shape = (112, 112, 3))) # (112, 112, 3) -> (112 * 112 * 3)\n",
    "model.add(Dense(128, activation = 'relu')) # 128개의 출력을 가지는 Dense 층\n",
    "model.add(Dense(64, activation = 'relu')) # 64개의 출력을 가지는 Dense 층\n",
    "model.add(Dense(11, activation = 'sigmoid')) # 11개의 출력을 가지는 신경망\n",
    "\n",
    "model.compile(optimizer = 'adam', \n",
    "              loss = 'binary_crossentropy', \n",
    "              metrics = ['binary_accuracy'])"
   ]
  },
  {
   "cell_type": "markdown",
   "metadata": {},
   "source": [
    "## 데이터 제네레이터 정의하기"
   ]
  },
  {
   "cell_type": "code",
   "execution_count": null,
   "metadata": {},
   "outputs": [],
   "source": [
    "batch_size = 32\n",
    "class_col = ['black', 'blue', 'brown', 'green', 'red', 'white', \n",
    "             'dress', 'shirt', 'pants', 'shorts', 'shoes']\n",
    "\n",
    "# Make Generator\n",
    "# 2020.08.09 class_mode 수정: other -> raw\n",
    "# class_mode: ['categorical', ['binary', 'sparse'], ['raw', 'multi_output'], ['input', 'None']]\n",
    "train_generator = train_datagen.flow_from_dataframe(\n",
    "    dataframe=train_df, \n",
    "    directory=None,\n",
    "    x_col = 'image',\n",
    "    y_col = class_col,\n",
    "    target_size = (112, 112),\n",
    "    color_mode='rgb',\n",
    "    class_mode='raw',\n",
    "    batch_size=batch_size,\n",
    "    shuffle = True,\n",
    "    seed=42\n",
    ")\n",
    "\n",
    "val_generator = val_datagen.flow_from_dataframe(\n",
    "    dataframe=val_df, \n",
    "    directory=None,\n",
    "    x_col = 'image',\n",
    "    y_col = class_col,\n",
    "    target_size = (112, 112),\n",
    "    color_mode='rgb',\n",
    "    class_mode='raw',\n",
    "    batch_size=batch_size,\n",
    "    shuffle=True\n",
    ")"
   ]
  },
  {
   "cell_type": "markdown",
   "metadata": {},
   "source": [
    "## 제네레이터를 통해 모델 학습시키기"
   ]
  },
  {
   "cell_type": "code",
   "execution_count": null,
   "metadata": {},
   "outputs": [],
   "source": [
    "model.fit(train_generator,\n",
    "         steps_per_epoch=get_steps(len(train_df), batch_size),\n",
    "         validation_data = val_generator,\n",
    "         validation_steps=get_steps(len(val_df), batch_size),\n",
    "         epochs = 10)"
   ]
  },
  {
   "cell_type": "markdown",
   "metadata": {},
   "source": [
    "## 테스트 데이터 예측하기"
   ]
  },
  {
   "cell_type": "code",
   "execution_count": null,
   "metadata": {},
   "outputs": [],
   "source": [
    "test_datagen = ImageDataGenerator(rescale = 1./255)\n",
    "\n",
    "# y_col: None, class_mode: None이므로\n",
    "# test_generator는 image만 반환하고, label은 반환하지 않습니다.\n",
    "test_generator = test_datagen.flow_from_dataframe(\n",
    "    dataframe=test_df, \n",
    "    directory=None,\n",
    "    x_col = 'image',\n",
    "    y_col = None,\n",
    "    target_size = (112, 112),\n",
    "    color_mode='rgb',\n",
    "    class_mode=None,\n",
    "    batch_size=batch_size,\n",
    "    shuffle = False\n",
    ")"
   ]
  },
  {
   "cell_type": "code",
   "execution_count": null,
   "metadata": {},
   "outputs": [],
   "source": [
    "# 책에는 명시되어 있지 않습니다.\n",
    "preds = model.predict(test_generator,\n",
    "                      steps = get_steps(len(test_df), batch_size),\n",
    "                      verbose = 1)"
   ]
  },
  {
   "cell_type": "markdown",
   "metadata": {},
   "source": [
    "## 결과 확인하기"
   ]
  },
  {
   "cell_type": "code",
   "execution_count": null,
   "metadata": {},
   "outputs": [],
   "source": [
    "import matplotlib.pyplot as plt\n",
    "import cv2\n",
    "\n",
    "# 8개만 예측해보도록 하겠습니다.\n",
    "do_preds = preds[:8]\n",
    "\n",
    "for i, pred in enumerate(do_preds):\n",
    "    plt.subplot(2, 4, i + 1)\n",
    "    prob = zip(class_col, list(pred))\n",
    "    # item --> prob\n",
    "    # contributor: '뱅커'님\n",
    "    prob = sorted(list(prob), key = lambda z: z[1], reverse = True)[:2]\n",
    "    \n",
    "    image = cv2.imread(test_df['image'][i])\n",
    "    image = cv2.cvtColor(image, cv2.COLOR_BGR2RGB)\n",
    "    \n",
    "    plt.imshow(image)\n",
    "    plt.title(f'{prob[0][0]}: {round(prob[0][1] * 100, 2)}% \\n {prob[1][0]}: {round(prob[1][1] * 100, 2)}%')\n",
    "    \n",
    "plt.tight_layout()\n",
    "plt.show()"
   ]
  }
 ],
 "metadata": {
  "kernelspec": {
   "display_name": "jhw",
   "language": "python",
   "name": "jhw"
  },
  "language_info": {
   "codemirror_mode": {
    "name": "ipython",
    "version": 3
   },
   "file_extension": ".py",
   "mimetype": "text/x-python",
   "name": "python",
   "nbconvert_exporter": "python",
   "pygments_lexer": "ipython3",
   "version": "3.8.5"
  }
 },
 "nbformat": 4,
 "nbformat_minor": 2
}
