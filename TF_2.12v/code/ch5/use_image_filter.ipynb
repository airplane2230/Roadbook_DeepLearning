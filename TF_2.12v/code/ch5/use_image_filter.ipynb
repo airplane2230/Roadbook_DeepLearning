{
 "cells": [
  {
   "cell_type": "markdown",
   "metadata": {},
   "source": [
    "## 이미지 필터 사용해보기"
   ]
  },
  {
   "cell_type": "code",
   "execution_count": null,
   "metadata": {},
   "outputs": [],
   "source": [
    "from tensorflow.keras.datasets import fashion_mnist\n",
    "\n",
    "# 데이터를 다운받습니다.\n",
    "(x_train, y_train), (x_test, y_test) = fashion_mnist.load_data()\n",
    "\n",
    "import matplotlib.pyplot as plt\n",
    "\n",
    "plt.imshow(x_train[0]) # 첫 번째 데이터를 그려봅니다. "
   ]
  },
  {
   "cell_type": "markdown",
   "metadata": {},
   "source": [
    "## 이미지 필터 정의하기"
   ]
  },
  {
   "cell_type": "code",
   "execution_count": null,
   "metadata": {},
   "outputs": [],
   "source": [
    "import numpy as np\n",
    "import cv2\n",
    "\n",
    "# 가로선을 추출하기 위한 필터\n",
    "horizontal_filter = np.array([[1., 2., 1.], \n",
    "                             [0., 0., 0.], \n",
    "                             [-1., -2., -1.]])\n",
    "\n",
    "# 세로선을 추출하기 위한 필터\n",
    "vertical_filter = np.array([[1., 0., -1.],\n",
    "                           [2., 0., -2.],\n",
    "                           [1., 0., -1.]])\n",
    "\n",
    "# 계산의 편의를 위해 이미지의 크기를 (27, 27)로 줄입니다.\n",
    "test_image = cv2.resize(x_train[0], (27, 27))\n",
    "image_size = test_image.shape[0]\n",
    "output_size = int((image_size - 3)/1 + 1)\n",
    "\n",
    "print('output의 크기 : %d' % output_size)"
   ]
  },
  {
   "cell_type": "markdown",
   "metadata": {},
   "source": [
    "## 이미지 필터 적용하기"
   ]
  },
  {
   "cell_type": "code",
   "execution_count": null,
   "metadata": {},
   "outputs": [],
   "source": [
    "filter_size = 3\n",
    "\n",
    "def get_filtered_image(filter):\n",
    "    filtered_image = np.zeros((output_size, output_size))\n",
    "    \n",
    "    for i in range(output_size):\n",
    "        for j in range(output_size):\n",
    "            # 합성곱 연산\n",
    "            indice_image = test_image[i:(i + filter_size), j:(j + filter_size)] * filter\n",
    "            indice_sum = np.sum(indice_image)\n",
    "\n",
    "            if(indice_sum > 255):\n",
    "                indice_sum = 255\n",
    "            filtered_image[i, j] = indice_sum\n",
    "\n",
    "    return filtered_image\n",
    "\n",
    "vertical_filtered_image = get_filtered_image(vertical_filter)\n",
    "horizontal_filtered_image = get_filtered_image(horizontal_filter)\n",
    "\n",
    "plt.subplot(1, 2, 1)\n",
    "plt.title('vertical')\n",
    "plt.imshow(vertical_filtered_image)\n",
    "\n",
    "plt.subplot(1, 2, 2)\n",
    "plt.title('horizontal')\n",
    "plt.imshow(horizontal_filtered_image)\n",
    "plt.show()"
   ]
  },
  {
   "cell_type": "markdown",
   "metadata": {},
   "source": [
    "## 이미지 필터를 적용한 최종 결과"
   ]
  },
  {
   "cell_type": "code",
   "execution_count": null,
   "metadata": {},
   "outputs": [],
   "source": [
    "sobel_image = np.sqrt(np.square(horizontal_filtered_image) + np.square(vertical_filtered_image))\n",
    "\n",
    "plt.title('vertical + horizontal')\n",
    "plt.imshow(sobel_image)"
   ]
  },
  {
   "cell_type": "markdown",
   "metadata": {},
   "source": [
    "## For-loop를 사용하여 풀링 연산 구현하기"
   ]
  },
  {
   "cell_type": "code",
   "execution_count": null,
   "metadata": {},
   "outputs": [],
   "source": [
    "import numpy as np\n",
    "\n",
    "image = x_train[0]\n",
    "image_x = image.shape[0]\n",
    "image_y = image.shape[1]\n",
    "new_image_x = int(image_x / 2)\n",
    "new_image_y = int(image_y / 2)\n",
    "\n",
    "pooled_image = np.zeros((new_image_x, new_image_y))\n",
    "\n",
    "print(f'original image shape: ({image_x}, {image_y})')\n",
    "print(f'pooled image shape: ({new_image_x}, {new_image_y})')\n",
    "\n",
    "for x in range(0, image_x, 2):\n",
    "    for y in range(0, image_y, 2):\n",
    "        pooled_image[int(x/2), int(y/2)] = np.max(image[x:x + 2, y:y + 2])\n",
    "        \n",
    "plt.title('pooled image')\n",
    "plt.imshow(pooled_image)"
   ]
  }
 ],
 "metadata": {
  "kernelspec": {
   "display_name": "tf_2.12",
   "language": "python",
   "name": "tf_2.12"
  },
  "language_info": {
   "codemirror_mode": {
    "name": "ipython",
    "version": 3
   },
   "file_extension": ".py",
   "mimetype": "text/x-python",
   "name": "python",
   "nbconvert_exporter": "python",
   "pygments_lexer": "ipython3",
   "version": "3.10.13"
  }
 },
 "nbformat": 4,
 "nbformat_minor": 2
}
