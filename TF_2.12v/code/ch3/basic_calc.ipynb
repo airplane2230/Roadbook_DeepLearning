{
 "cells": [
  {
   "cell_type": "markdown",
   "metadata": {},
   "source": [
    "## 텐서의 차원과 기본 연산"
   ]
  },
  {
   "cell_type": "code",
   "execution_count": null,
   "metadata": {},
   "outputs": [],
   "source": [
    "import tensorflow as tf\n",
    "import numpy as np\n",
    "\n",
    "print(f'현재 텐서플로우 버전은? {tf.__version__}')"
   ]
  },
  {
   "cell_type": "code",
   "execution_count": null,
   "metadata": {
    "scrolled": true
   },
   "outputs": [],
   "source": [
    "a = tf.constant(2) # 텐서를 선언합니다. \n",
    "b = tf.constant([1, 2])\n",
    "c = tf.constant([[1, 2], [3, 4]])\n",
    "\n",
    "print(tf.rank(a)) # 텐서의 랭크를 계산합니다.\n",
    "print(tf.rank(b))\n",
    "print(tf.rank(c))"
   ]
  },
  {
   "cell_type": "code",
   "execution_count": null,
   "metadata": {
    "scrolled": false
   },
   "outputs": [],
   "source": [
    "# 추가예시\n",
    "# constant_initializer()를 통해 shape, dtype을 모르는 수를 유연하게 변경하면서 사용할 수 있습니다.\n",
    "init_num = tf.constant_initializer(3)\n",
    "# 예를 들어, init_num(shape = (1, 1), dtype = tf.float32) 도 가능합니다\n",
    "a = init_num(shape = (), dtype = tf.int32)\n",
    "b = tf.constant(2)\n",
    "\n",
    "print(tf.add(a, b)) # 더하기\n",
    "print(tf.subtract(a, b)) # 빼기\n",
    "print(tf.multiply(a, b).numpy()) # 곱하기\n",
    "print(tf.divide(a, b).numpy()) # 나누기"
   ]
  },
  {
   "cell_type": "markdown",
   "metadata": {},
   "source": [
    "## 텐서에서 넘파이로, 넘파이에서 텐서로"
   ]
  },
  {
   "cell_type": "code",
   "execution_count": null,
   "metadata": {},
   "outputs": [],
   "source": [
    "c = tf.add(a, b).numpy() # a와 b를 더한 후 NumPy 배열 형태로 변환합니다.\n",
    "c_square = np.square(c, dtype = np.float32) # NumPy 모듈에 존재하는 square 함수를 적용합니다.\n",
    "c_tensor = tf.convert_to_tensor(c_square) # 다시 텐서로 변환해줍니다.\n",
    "\n",
    "# 넘파이 배열과 텐서 각각을 확인하기 위해 출력합니다.\n",
    "print(f'numpy array : {c}\\napplying square with numpy : {c_square}\\nconvert_to_tensor : {c_tensor}')"
   ]
  },
  {
   "cell_type": "code",
   "execution_count": null,
   "metadata": {},
   "outputs": [],
   "source": [
    "# from tensorflow.math import sin, cos, tanh\n",
    "# from tensorflow.linalg import diag, svd, matrix_transpose"
   ]
  },
  {
   "cell_type": "markdown",
   "metadata": {},
   "source": [
    "## @tf.function"
   ]
  },
  {
   "cell_type": "code",
   "execution_count": null,
   "metadata": {
    "scrolled": true
   },
   "outputs": [],
   "source": [
    "import tensorflow as tf\n",
    "\n",
    "@tf.function\n",
    "def square_pos(x):\n",
    "    if x > 0:\n",
    "        x = x * x\n",
    "    else:\n",
    "        x = x * -1\n",
    "    return x\n",
    "\n",
    "# tf.function은 graph tracing 기능을 포함합니다.\n",
    "# 예를 들어, 아래처럼 tf.constant(2)가 아닌 int 2를 사용하면 상대적으로 느립니다.\n",
    "print(square_pos(tf.constant(2)))\n",
    "print(square_pos.__class__)"
   ]
  },
  {
   "cell_type": "code",
   "execution_count": null,
   "metadata": {},
   "outputs": [],
   "source": [
    "def square_pos(x):\n",
    "    if x > 0:\n",
    "        x = x * x\n",
    "    else:\n",
    "        x = x * -1\n",
    "    return x\n",
    "\n",
    "print(square_pos(tf.constant(2)))\n",
    "print(square_pos.__class__)"
   ]
  }
 ],
 "metadata": {
  "kernelspec": {
   "display_name": "tf_2.12",
   "language": "python",
   "name": "tf_2.12"
  },
  "language_info": {
   "codemirror_mode": {
    "name": "ipython",
    "version": 3
   },
   "file_extension": ".py",
   "mimetype": "text/x-python",
   "name": "python",
   "nbconvert_exporter": "python",
   "pygments_lexer": "ipython3",
   "version": "3.10.13"
  }
 },
 "nbformat": 4,
 "nbformat_minor": 2
}
