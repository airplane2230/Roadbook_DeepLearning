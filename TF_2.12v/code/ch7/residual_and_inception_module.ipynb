{
 "cells": [
  {
   "cell_type": "markdown",
   "metadata": {},
   "source": [
    "## 잔차 연결을 사용하여 모델 구성하기"
   ]
  },
  {
   "cell_type": "code",
   "execution_count": null,
   "metadata": {},
   "outputs": [],
   "source": [
    "from tensorflow.keras.layers import Conv2D, MaxPooling2D, Activation, Add\n",
    "from tensorflow.keras.layers import Input, GlobalAveragePooling2D, Dense\n",
    "from tensorflow.keras.models import Model\n",
    "\n",
    "# 잔차 연결을 포함한 네트워크를 구현합니다.\n",
    "def residual_block(inputs, num_channels, use_transform = False):\n",
    "    x = Conv2D(num_channels, (3, 3), activation = 'relu', padding = 'same')(inputs)\n",
    "    x = Conv2D(num_channels, (3, 3), padding = 'same')(x)\n",
    "    \n",
    "    # 입력값의 형태가 변환되는 경우,\n",
    "    # 1x1 컨볼루션을 통해 크기를 조절해준다.\n",
    "    if use_transform:\n",
    "        x = MaxPooling2D(strides = 2)(x)\n",
    "        inputs = Conv2D(num_channels, (1, 1), strides = 2, padding = 'same')(inputs)\n",
    "    \n",
    "    # 입력값과 변환된 입력값을 더해줍니다.\n",
    "    add_x = Add()([inputs, x])\n",
    "    \n",
    "    return Activation('relu')(add_x)\n",
    "\n",
    "# 쉬운 이해를 위해 MNIST와 동일한 형태로 사용하였습니다.\n",
    "inputs = Input(shape = (28, 28, 1))\n",
    "# use_transform은 MaxPooling을 통해,\n",
    "# 입력값의 크기에 변환을 주겠다는 인자입니다.\n",
    "x = residual_block(inputs, 32, use_transform=True)\n",
    "x = residual_block(x, 32)\n",
    "x = residual_block(x, 32, use_transform=True)\n",
    "\n",
    "# 분류기 부분입니다. \n",
    "x = GlobalAveragePooling2D()(x)\n",
    "x = Dense(10, activation = 'softmax')(x)\n",
    "\n",
    "# 모델을 구성합니다.\n",
    "model = Model(inputs = inputs, outputs = x)"
   ]
  },
  {
   "cell_type": "code",
   "execution_count": null,
   "metadata": {
    "scrolled": true
   },
   "outputs": [],
   "source": [
    "model.summary()"
   ]
  },
  {
   "cell_type": "markdown",
   "metadata": {},
   "source": [
    "## 인셉션 모듈을 사용하여 모델 구성하기"
   ]
  },
  {
   "cell_type": "code",
   "execution_count": null,
   "metadata": {},
   "outputs": [],
   "source": [
    "from tensorflow.keras.layers import Conv2D, MaxPooling2D, Activation, Concatenate\n",
    "from tensorflow.keras.layers import Input, GlobalAveragePooling2D, Dense\n",
    "from tensorflow.keras.models import Model\n",
    "\n",
    "def inception_module(x):\n",
    "    x_1 = Conv2D(32, (1, 1), activation = 'relu')(x)\n",
    "    \n",
    "    x_2 = Conv2D(48, (1, 1), activation = 'relu')(x)\n",
    "    x_2 = Conv2D(64, (3, 3), activation = 'relu', padding = 'same')(x_2)\n",
    "    \n",
    "    x_3 = Conv2D(16, (1, 1), activation = 'relu')(x)\n",
    "    x_3 = Conv2D(16, (5, 5), activation = 'relu', padding = 'same')(x_3)\n",
    "    \n",
    "    x_4 = MaxPooling2D(pool_size = (3, 3), strides = 1, padding = 'same')(x)\n",
    "    x_4 = Conv2D(32, (1, 1), activation = 'relu')(x_4)\n",
    "    \n",
    "    output = Concatenate()([x_1, x_2, x_3, x_4])\n",
    "    \n",
    "    return output\n",
    "\n",
    "inputs = Input(shape = (224, 224, 3))\n",
    "x = inception_module(inputs)\n",
    "\n",
    "model = Model(inputs = inputs, outputs = x)"
   ]
  },
  {
   "cell_type": "code",
   "execution_count": null,
   "metadata": {},
   "outputs": [],
   "source": [
    "from tensorflow.keras.utils import plot_model\n",
    "\n",
    "plot_model(model)"
   ]
  }
 ],
 "metadata": {
  "kernelspec": {
   "display_name": "jhw",
   "language": "python",
   "name": "jhw"
  },
  "language_info": {
   "codemirror_mode": {
    "name": "ipython",
    "version": 3
   },
   "file_extension": ".py",
   "mimetype": "text/x-python",
   "name": "python",
   "nbconvert_exporter": "python",
   "pygments_lexer": "ipython3",
   "version": "3.8.5"
  }
 },
 "nbformat": 4,
 "nbformat_minor": 2
}
