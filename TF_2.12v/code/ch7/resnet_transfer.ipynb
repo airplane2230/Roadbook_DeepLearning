{
 "cells": [
  {
   "cell_type": "markdown",
   "metadata": {},
   "source": [
    "## ResNet을 활용하여 모델 구성하기"
   ]
  },
  {
   "cell_type": "code",
   "execution_count": null,
   "metadata": {},
   "outputs": [],
   "source": [
    "from tensorflow.keras.applications import ResNet50, InceptionV3\n",
    "from tensorflow.keras.layers import GlobalAveragePooling2D, Dense, Input\n",
    "from tensorflow.keras.models import Model\n",
    "\n",
    "# ImageNet으로 학습된 모델을 불러옵니다.\n",
    "# 각 인자에 대한 설명은 5.4절을 참고하세요.\n",
    "# inception_v3 = InceptionV3(weights = 'imagenet', include_top = False, input_shape = (32, 32, 3))\n",
    "base_model = ResNet50(weights = 'imagenet', include_top = False)\n",
    "\n",
    "# 임의로 전처리 layer를 함수 파라미터로 전달하겠습니다.\n",
    "def get_model(num_classes, norm_layer):\n",
    "    inputs = Input(shape = (32, 32, 3))\n",
    "    norm_inputs = norm_layer(inputs)\n",
    "    \n",
    "    x = base_model(norm_inputs)\n",
    "    x = GlobalAveragePooling2D()(x)\n",
    "    x = Dense(num_classes, activation = 'softmax')(x)\n",
    "    \n",
    "    # 모델을 생성합니다.\n",
    "    model = Model(inputs = inputs, outputs = x)\n",
    "    \n",
    "    return model\n",
    "\n",
    "# 모델 구조를 확인해보세요!\n",
    "# 또는 plot_model()로 그려보아도 좋습니다.\n",
    "# model.summary()"
   ]
  },
  {
   "cell_type": "markdown",
   "metadata": {},
   "source": [
    "## CIFAR-10 학습시켜보기"
   ]
  },
  {
   "cell_type": "code",
   "execution_count": null,
   "metadata": {},
   "outputs": [],
   "source": [
    "from tensorflow.keras.datasets import cifar10\n",
    "import tensorflow as tf\n",
    "\n",
    "(x_train, y_train), (x_test, y_test) = cifar10.load_data()\n",
    "\n",
    "norm_layer = tf.keras.layers.Normalization(axis = -1, dtype = 'float32')\n",
    "norm_layer.adapt(x_train)\n",
    "\n",
    "model = get_model(num_classes=10, norm_layer = norm_layer)\n",
    "model.compile(optimizer = 'adam', loss = 'sparse_categorical_crossentropy',\n",
    "              metrics = ['acc'])\n",
    "print('model complete...')\n",
    "\n",
    "from sklearn.model_selection import train_test_split\n",
    "\n",
    "x_train, x_val, y_train, y_val = train_test_split(x_train, y_train, \n",
    "                                                  test_size = 0.3, random_state = 777)\n",
    "\n",
    "print(x_train.shape, len(y_train))\n",
    "print(x_val.shape, len(y_val))\n",
    "\n",
    "# 학습을 진행합니다.\n",
    "history = model.fit(x_train, y_train,\n",
    "                    epochs = 30,\n",
    "                    batch_size = 32,\n",
    "                    validation_data = (x_val, y_val))"
   ]
  }
 ],
 "metadata": {
  "kernelspec": {
   "display_name": "tf_2.12",
   "language": "python",
   "name": "tf_2.12"
  },
  "language_info": {
   "codemirror_mode": {
    "name": "ipython",
    "version": 3
   },
   "file_extension": ".py",
   "mimetype": "text/x-python",
   "name": "python",
   "nbconvert_exporter": "python",
   "pygments_lexer": "ipython3",
   "version": "3.10.13"
  }
 },
 "nbformat": 4,
 "nbformat_minor": 2
}
