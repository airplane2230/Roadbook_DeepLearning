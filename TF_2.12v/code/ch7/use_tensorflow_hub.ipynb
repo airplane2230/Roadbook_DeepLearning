{
 "cells": [
  {
   "cell_type": "markdown",
   "metadata": {},
   "source": [
    "## CIFAR-10 데이터셋 다운로드"
   ]
  },
  {
   "cell_type": "code",
   "execution_count": null,
   "metadata": {},
   "outputs": [],
   "source": [
    "from tensorflow.keras.datasets import cifar10\n",
    "import tensorflow as tf\n",
    "\n",
    "(x_train, y_train), (x_test, y_test) = cifar10.load_data()\n",
    "\n",
    "# 평균과 표준편차는 채널별로 구해줍니다.\n",
    "norm_layer = tf.keras.layers.Normalization(axis = -1, dtype = 'float32')\n",
    "norm_layer.adapt(x_train)\n",
    "\n",
    "from sklearn.model_selection import train_test_split\n",
    "\n",
    "x_train, x_val, y_train, y_val = train_test_split(x_train, y_train, \n",
    "                                                  test_size = 0.3)\n",
    "print(x_train.shape, len(y_train))\n",
    "print(x_val.shape, len(y_val))\n",
    "\n",
    "img_shape = x_train.shape[1:]"
   ]
  },
  {
   "cell_type": "markdown",
   "metadata": {},
   "source": [
    "## TensorFlow Hub에서 모델 가져오기"
   ]
  },
  {
   "cell_type": "code",
   "execution_count": null,
   "metadata": {},
   "outputs": [],
   "source": [
    "import tensorflow_hub as hub # !pip install --upgrade tensorflow_hub\n",
    "\n",
    "# 참조: https://tfhub.dev/google/efficientnet/b0/classification/1\n",
    "model_url = \"https://tfhub.dev/google/efficientnet/b0/classification/1\"\n",
    "hub_layer = hub.KerasLayer(model_url, trainable = False, input_shape = img_shape)"
   ]
  },
  {
   "cell_type": "markdown",
   "metadata": {},
   "source": [
    "## Hub_Layer를 활용한 학습"
   ]
  },
  {
   "cell_type": "code",
   "execution_count": null,
   "metadata": {},
   "outputs": [],
   "source": [
    "from tensorflow.keras.models import Sequential\n",
    "from tensorflow.keras.layers import GlobalAveragePooling2D, Dense, Input\n",
    "\n",
    "model = Sequential([\n",
    "    Input(shape = img_shape),\n",
    "    norm_layer,\n",
    "    hub_layer,\n",
    "    Dense(10, activation = 'softmax')\n",
    "])\n",
    "\n",
    "model.compile(loss = 'sparse_categorical_crossentropy',\n",
    "              metrics = ['acc'],\n",
    "              optimizer = 'adam')"
   ]
  },
  {
   "cell_type": "code",
   "execution_count": null,
   "metadata": {},
   "outputs": [],
   "source": [
    "model.summary()"
   ]
  }
 ],
 "metadata": {
  "kernelspec": {
   "display_name": "tf_2.12",
   "language": "python",
   "name": "tf_2.12"
  },
  "language_info": {
   "codemirror_mode": {
    "name": "ipython",
    "version": 3
   },
   "file_extension": ".py",
   "mimetype": "text/x-python",
   "name": "python",
   "nbconvert_exporter": "python",
   "pygments_lexer": "ipython3",
   "version": "3.10.13"
  }
 },
 "nbformat": 4,
 "nbformat_minor": 2
}
