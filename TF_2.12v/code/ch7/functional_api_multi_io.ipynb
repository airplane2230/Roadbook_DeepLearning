{
 "cells": [
  {
   "cell_type": "markdown",
   "metadata": {},
   "source": [
    "## 다중 입출력을 위한 데이터 생성하기"
   ]
  },
  {
   "cell_type": "code",
   "execution_count": null,
   "metadata": {},
   "outputs": [],
   "source": [
    "import numpy as np\n",
    "np.random.seed(2020)\n",
    "\n",
    "# 햄버거 이미지\n",
    "hamburger_img = np.random.random((1000, 28, 28, 1))\n",
    "# 햄버거에 대한 평가\n",
    "customer_form = np.random.randint(10000, size = (1000, 100))\n",
    "\n",
    "# 햄버거에 대한 평점\n",
    "hamburger_rate = np.round(np.random.random((1000,)) * 5, 1)\n",
    "# 햄버거에 보완되어질 50가지의 재료\n",
    "update_for_hamburger = np.random.randint(50, size = (1000,))\n",
    "\n",
    "print(hamburger_img.shape, customer_form.shape)\n",
    "print(hamburger_rate.shape, update_for_hamburger.shape)"
   ]
  },
  {
   "cell_type": "markdown",
   "metadata": {},
   "source": [
    "## 다중 입출력 모델 구성하기"
   ]
  },
  {
   "cell_type": "code",
   "execution_count": null,
   "metadata": {},
   "outputs": [],
   "source": [
    "from tensorflow.keras.models import Model\n",
    "from tensorflow.keras.layers import Input, Conv2D, MaxPooling2D, GlobalAveragePooling2D\n",
    "from tensorflow.keras.layers import Embedding, LSTM\n",
    "from tensorflow.keras.layers import Dense, Concatenate\n",
    "\n",
    "# 각 입력에 대한 형태를 명시합니다. \n",
    "img_input = Input(shape = (28, 28, 1), name = 'hamburger_img')\n",
    "form_input = Input(shape = (None, ), name = 'customer_form')\n",
    "\n",
    "# 햄버거 이미지 입력\n",
    "x_1 = Conv2D(32, (3, 3), activation = 'relu')(img_input)\n",
    "x_1 = Conv2D(32, (3, 3), activation = 'relu')(x_1)\n",
    "x_1 = MaxPooling2D(strides = 2)(x_1)\n",
    "x_1 = GlobalAveragePooling2D()(x_1)\n",
    "\n",
    "# 햄버거에 대한 평가 입력\n",
    "x_2 = Embedding(10000, 64)(form_input)\n",
    "x_2 = LSTM(128)(x_2)\n",
    "\n",
    "# 출력을 만들기 위해 모든 입력을 하나의 텐서로 합칩니다. \n",
    "x = Concatenate()([x_1, x_2])\n",
    "\n",
    "# 햄버거 평점에 대한 출력값\n",
    "rate_pred = Dense(1, name = 'hamburger_rate')(x)\n",
    "# 보완될 50가지 재료에 대한 출력값\n",
    "update_pred = Dense(50, activation = 'softmax', name = 'update_for_hamburger')(x)\n",
    "\n",
    "# 모델을 생성합니다.\n",
    "model = Model(inputs = [img_input, form_input],\n",
    "             outputs = [rate_pred, update_pred])"
   ]
  },
  {
   "cell_type": "markdown",
   "metadata": {},
   "source": [
    "## 모델 구조 그려보기"
   ]
  },
  {
   "cell_type": "code",
   "execution_count": null,
   "metadata": {},
   "outputs": [],
   "source": [
    "from tensorflow.keras.utils import plot_model\n",
    "\n",
    "plot_model(model)"
   ]
  },
  {
   "cell_type": "markdown",
   "metadata": {},
   "source": [
    "## 모델 구조 확인하기"
   ]
  },
  {
   "cell_type": "code",
   "execution_count": null,
   "metadata": {},
   "outputs": [],
   "source": [
    "model.summary()"
   ]
  },
  {
   "cell_type": "markdown",
   "metadata": {},
   "source": [
    "## 다중 입출력 모델에서 학습 과정 설정하기"
   ]
  },
  {
   "cell_type": "code",
   "execution_count": null,
   "metadata": {},
   "outputs": [],
   "source": [
    "# 손실함수에 리스트 형태를 사용한 경우\n",
    "# model.compile(optimizer = 'adam', \n",
    "#              loss = ['mse', 'sparse_categorical_crossentropy'], # 리스트\n",
    "#              metrics = {'hamburger_rate':'mse', 'update_for_hamburger':'acc'})\n",
    "\n",
    "# 또는\n",
    "\n",
    "# 손실함수에 딕셔너리 형태를 사용한 경우\n",
    "model.compile(optimizer = 'adam', \n",
    "             loss = {'hamburger_rate':'mse', \n",
    "                      'update_for_hamburger':'sparse_categorical_crossentropy'}, # 딕셔너리\n",
    "             metrics = {'hamburger_rate':'mse', 'update_for_hamburger':'acc'})"
   ]
  },
  {
   "cell_type": "markdown",
   "metadata": {},
   "source": [
    "## 다중 입출력 모델 학습시키기"
   ]
  },
  {
   "cell_type": "code",
   "execution_count": null,
   "metadata": {},
   "outputs": [],
   "source": [
    "# 모델 학습에 리스트 형태를 사용한 경우\n",
    "# model.fit([hamburger_img, customer_form], \n",
    "#           [hamburger_rate, update_for_hamburger],\n",
    "#          epochs = 2, batch_size = 32)\n",
    "\n",
    "# 또는\n",
    "\n",
    "# 모델 학습에 딕셔너리 형태를 사용하여 데이터를 입력합니다.\n",
    "# 이번 예제는 성능을 신경쓰지 않아도 좋습니다.\n",
    "model.fit({'hamburger_img':hamburger_img, 'customer_form':customer_form}, \n",
    "          {'hamburger_rate':hamburger_rate, 'update_for_hamburger':update_for_hamburger},\n",
    "         epochs = 2, batch_size = 32)"
   ]
  }
 ],
 "metadata": {
  "kernelspec": {
   "display_name": "jhw",
   "language": "python",
   "name": "jhw"
  },
  "language_info": {
   "codemirror_mode": {
    "name": "ipython",
    "version": 3
   },
   "file_extension": ".py",
   "mimetype": "text/x-python",
   "name": "python",
   "nbconvert_exporter": "python",
   "pygments_lexer": "ipython3",
   "version": "3.8.5"
  }
 },
 "nbformat": 4,
 "nbformat_minor": 2
}
