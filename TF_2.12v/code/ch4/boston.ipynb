{
 "cells": [
  {
   "cell_type": "markdown",
   "metadata": {},
   "source": [
    "## 보스턴 주택 가격 데이터셋 다운로드"
   ]
  },
  {
   "cell_type": "code",
   "execution_count": null,
   "metadata": {},
   "outputs": [],
   "source": [
    "from tensorflow.keras.datasets.boston_housing import load_data\n",
    "import tensorflow as tf\n",
    "\n",
    "# 데이터를 다운받습니다.\n",
    "(x_train, y_train), (x_test, y_test) = load_data(path='boston_housing.npz',\n",
    "                                                 test_split=0.2,\n",
    "                                                 seed=777)"
   ]
  },
  {
   "cell_type": "markdown",
   "metadata": {},
   "source": [
    "## 데이터 형태 확인하기"
   ]
  },
  {
   "cell_type": "code",
   "execution_count": null,
   "metadata": {},
   "outputs": [],
   "source": [
    "print(x_train.shape, y_train.shape)\n",
    "print(x_test.shape, y_test.shape)"
   ]
  },
  {
   "cell_type": "markdown",
   "metadata": {},
   "source": [
    "## 데이터 전처리 및 검증 데이터셋 만들기"
   ]
  },
  {
   "cell_type": "code",
   "execution_count": null,
   "metadata": {},
   "outputs": [],
   "source": [
    "norm_layer = tf.keras.layers.Normalization(axis = -1)\n",
    "norm_layer.adapt(x_train)\n",
    "\n",
    "# 훈련 데이터셋과 검증 데이터셋으로 나눕니다.\n",
    "from sklearn.model_selection import train_test_split\n",
    "\n",
    "x_train, x_val, y_train, y_val = train_test_split(x_train, y_train, \n",
    "                                                  test_size = 0.33, \n",
    "                                                  random_state = 777)"
   ]
  },
  {
   "cell_type": "markdown",
   "metadata": {},
   "source": [
    "## 모델 구성하기"
   ]
  },
  {
   "cell_type": "code",
   "execution_count": null,
   "metadata": {},
   "outputs": [],
   "source": [
    "from tensorflow.keras.models import Sequential\n",
    "from tensorflow.keras.layers import Dense, Input\n",
    "\n",
    "\n",
    "\n",
    "model = Sequential([\n",
    "    Input(shape = (13, )),\n",
    "    norm_layer\n",
    "])\n",
    "\n",
    "# 입력 데이터의 형태를 꼭 명시해야 합니다.\n",
    "# 13차원의 데이터를 입력으로 받고, 64개의 출력을 가지는 첫 번째 Dense 층\n",
    "model.add(Dense(64, activation = 'relu', input_shape = (13, )))\n",
    "model.add(Dense(32, activation = 'relu')) # 32개의 출력을 가지는 Dense 층\n",
    "model.add(Dense(1)) # 하나의 값을 출력합니다.\n",
    "\n",
    "model.compile(optimizer = 'adam', loss = 'mse', metrics = ['mae'])"
   ]
  },
  {
   "cell_type": "markdown",
   "metadata": {},
   "source": [
    "## 학습하고 평가하기"
   ]
  },
  {
   "cell_type": "code",
   "execution_count": null,
   "metadata": {
    "scrolled": true
   },
   "outputs": [],
   "source": [
    "history = model.fit(x_train, y_train, \n",
    "                    epochs = 300, \n",
    "                    validation_data = (x_val, y_val))"
   ]
  },
  {
   "cell_type": "code",
   "execution_count": null,
   "metadata": {
    "scrolled": true
   },
   "outputs": [],
   "source": [
    "model.evaluate(x_test, y_test)"
   ]
  },
  {
   "cell_type": "markdown",
   "metadata": {},
   "source": [
    "## K-Fold 사용하기"
   ]
  },
  {
   "cell_type": "code",
   "execution_count": null,
   "metadata": {},
   "outputs": [],
   "source": [
    "from tensorflow.keras.datasets.boston_housing import load_data\n",
    "from tensorflow.keras.models import Sequential\n",
    "from tensorflow.keras.layers import Dense, Input\n",
    "import tensorflow as tf\n",
    "\n",
    "from sklearn.model_selection import KFold\n",
    "\n",
    "(x_train, y_train), (x_test, y_test) = load_data(path='boston_housing.npz',\n",
    "                                                 test_split=0.2,\n",
    "                                                 seed=777)\n",
    "\n",
    "norm_layer = tf.keras.layers.Normalization(axis = -1)\n",
    "norm_layer.adapt(x_train)\n",
    "\n",
    "#----------------------------------------\n",
    "# K-Fold를 진행해봅니다.\n",
    "k = 3\n",
    "\n",
    "# 주어진 데이터셋을 k만큼 등분합니다.\n",
    "# 여기서는 3이므로 훈련 데이터셋(404개)를 3등분하여\n",
    "# 1개는 검증셋으로, 나머지 2개는 훈련셋으로 활용합니다.\n",
    "kfold = KFold(n_splits = k, shuffle = True, random_state = 777)\n",
    "\n",
    "# 재사용을 위해 모델을 반환하는 함수를 정의합니다.\n",
    "def get_model():\n",
    "    model = Sequential([\n",
    "                Input(shape = (13, )),\n",
    "                norm_layer\n",
    "            ])\n",
    "    model.add(Dense(64, activation = 'relu', input_shape = (13, )))\n",
    "    model.add(Dense(32, activation = 'relu')) \n",
    "    model.add(Dense(1))   \n",
    "\n",
    "    model.compile(optimizer = 'adam', loss = 'mse', metrics = ['mae'])\n",
    "    \n",
    "    return model\n",
    "\n",
    "mae_list = [] # 테스트셋을 평가한 후 결과 mae를 담을 리스트를 선언합니다.\n",
    "\n",
    "# k번 진행합니다.\n",
    "for train_index, val_index in kfold.split(x_train):\n",
    "    # 해당 인덱스는 무작위로 생성됩니다.\n",
    "    # 무작위로 생성해주는 것은 과대적합을 피할 수 있는 좋은 방법입니다.\n",
    "    x_train_fold, x_val_fold = x_train[train_index], x_train[val_index]\n",
    "    y_train_fold, y_val_fold = y_train[train_index], y_train[val_index]\n",
    "    \n",
    "    # 모델을 불러옵니다.\n",
    "    model = get_model()\n",
    "    \n",
    "    model.fit(x_train_fold, y_train_fold, epochs = 10, validation_data = (x_val_fold, y_val_fold))\n",
    "    \n",
    "    _, test_mae = model.evaluate(x_test, y_test)\n",
    "    mae_list.append(test_mae)"
   ]
  },
  {
   "cell_type": "markdown",
   "metadata": {},
   "source": [
    "## K-Fold 결과 확인하기"
   ]
  },
  {
   "cell_type": "code",
   "execution_count": null,
   "metadata": {},
   "outputs": [],
   "source": [
    "import numpy as np\n",
    "\n",
    "print(f'- 전체 결과: {mae_list}')\n",
    "print(f'- 평균낸 결과를 최종 결과로 사용합니다: {np.mean(mae_list)}')"
   ]
  }
 ],
 "metadata": {
  "kernelspec": {
   "display_name": "tf_2.12",
   "language": "python",
   "name": "tf_2.12"
  },
  "language_info": {
   "codemirror_mode": {
    "name": "ipython",
    "version": 3
   },
   "file_extension": ".py",
   "mimetype": "text/x-python",
   "name": "python",
   "nbconvert_exporter": "python",
   "pygments_lexer": "ipython3",
   "version": "3.10.13"
  }
 },
 "nbformat": 4,
 "nbformat_minor": 2
}
