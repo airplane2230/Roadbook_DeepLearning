{
 "cells": [
  {
   "cell_type": "markdown",
   "metadata": {},
   "source": [
    "## 커스텀 평가지표 정의하여 사용하기"
   ]
  },
  {
   "cell_type": "code",
   "execution_count": null,
   "metadata": {},
   "outputs": [],
   "source": [
    "from tensorflow.keras import backend as K\n",
    "\n",
    "# 커스텀 평가지표를 정의합니다.\n",
    "def recall_metric(y_true, y_pred):\n",
    "    true_pos = K.sum(K.round(K.clip(y_true * y_pred, 0.0, 1.0)))\n",
    "    pred_pos = K.sum(K.round(K.clip(y_true, 0.0, 1.0)))\n",
    "    recall = true_pos / (pred_pos + K.epsilon())\n",
    "        \n",
    "    return recall\n",
    "\n",
    "def precision_metric(y_true, y_pred):\n",
    "    true_pos = K.sum(K.round(K.clip(y_true * y_pred, 0.0, 1.0)))\n",
    "    pred_pos = K.sum(K.round(K.clip(y_pred, 0.0, 1.0)))\n",
    "    precision = true_pos / (pred_pos + K.epsilon())\n",
    "        \n",
    "    return precision\n",
    "\n",
    "def f1_metric(y_true, y_pred):\n",
    "    recall = recall_metric(y_true, y_pred)\n",
    "    precision = precision_metric(y_true, y_pred)\n",
    "    \n",
    "    return 2 * ((precision * recall) / (precision + recall + K.epsilon()))"
   ]
  },
  {
   "cell_type": "code",
   "execution_count": null,
   "metadata": {},
   "outputs": [],
   "source": [
    "from tensorflow.keras.datasets import mnist\n",
    "\n",
    "(x_train, y_train), (x_test, y_test) = mnist.load_data(path='mnist.npz')\n",
    "\n",
    "from sklearn.model_selection import train_test_split\n",
    "\n",
    "x_train, x_val, y_train, y_val = train_test_split(x_train, y_train, \n",
    "                                                  test_size = 0.3, random_state = 777)\n",
    "\n",
    "x_train = (x_train.reshape(-1, 28, 28, 1))\n",
    "x_val = (x_val.reshape(-1, 28, 28, 1))\n",
    "x_test = (x_test.reshape(-1, 28, 28, 1))\n",
    "\n",
    "ce_layer = tf.keras.layers.CategoryEncoding(num_tokens=np.unique(y_train).__len__(),\n",
    "                                 output_mode=\"one_hot\")\n",
    "\n",
    "y_train = ce_layer(list(y_train))\n",
    "y_val = ce_layer(list(y_val))\n",
    "y_test = ce_layer(list(y_test))"
   ]
  },
  {
   "cell_type": "code",
   "execution_count": null,
   "metadata": {},
   "outputs": [],
   "source": [
    "from tensorflow.keras.models import Model\n",
    "from tensorflow.keras.layers import Conv2D, MaxPooling2D, GlobalAveragePooling2D, Dense, Rescaling\n",
    "from tensorflow.keras.layers import Input\n",
    "\n",
    "inputs = Input(shape = (28, 28, 1))\n",
    "\n",
    "x = Rescaling(scale = 1./255)(inputs)\n",
    "x = Conv2D(32, (3, 3), activation = 'relu')(x)\n",
    "x = Conv2D(32, (3, 3), activation = 'relu')(x)\n",
    "x = MaxPooling2D(strides = 2)(x)\n",
    "\n",
    "x = GlobalAveragePooling2D()(x)\n",
    "x = Dense(10, activation = 'softmax')(x)\n",
    "\n",
    "model = Model(inputs = inputs, outputs = x)\n",
    "\n",
    "# 정의한 평가 지표를 사용합니다.\n",
    "model.compile(optimizer = 'adam', \n",
    "              loss = 'categorical_crossentropy',\n",
    "              metrics = ['acc', recall_metric, precision_metric, f1_metric])\n",
    "\n",
    "model.fit(x_train, y_train,\n",
    "         batch_size = 32,\n",
    "         validation_data = (x_val, y_val),\n",
    "         epochs = 10)"
   ]
  }
 ],
 "metadata": {
  "kernelspec": {
   "display_name": "tf_2.12",
   "language": "python",
   "name": "tf_2.12"
  },
  "language_info": {
   "codemirror_mode": {
    "name": "ipython",
    "version": 3
   },
   "file_extension": ".py",
   "mimetype": "text/x-python",
   "name": "python",
   "nbconvert_exporter": "python",
   "pygments_lexer": "ipython3",
   "version": "3.10.13"
  }
 },
 "nbformat": 4,
 "nbformat_minor": 2
}
