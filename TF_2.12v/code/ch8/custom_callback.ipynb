{
 "cells": [
  {
   "cell_type": "markdown",
   "metadata": {},
   "source": [
    "## 특정 시점에 학습률을 조정하는 커스텀 케라스 콜백"
   ]
  },
  {
   "cell_type": "code",
   "execution_count": null,
   "metadata": {},
   "outputs": [],
   "source": [
    "from tensorflow.keras.callbacks import Callback\n",
    "from tensorflow.keras import backend as K\n",
    "\n",
    "# Callback을 상속받아 Custom Callback을 정의합니다.\n",
    "class CustomLearningLateCallback(Callback):\n",
    "    def __init__(self):\n",
    "        pass\n",
    "    \n",
    "    # 0.1배 만큼 학습률을 감소시킵니다.\n",
    "    def down_lr(self, current_lr):\n",
    "        return current_lr * 0.1\n",
    "    \n",
    "    # 기점 예시입니다.\n",
    "    # 이 예제에서는 사용하지 않습니다.\n",
    "    def on_train_begin(self, logs = None):\n",
    "        pass\n",
    "    \n",
    "    def on_train_end(self, logs = None):\n",
    "        pass\n",
    "    \n",
    "    def on_train_batch_begin(self, batch, logs = None):\n",
    "        pass\n",
    "    \n",
    "    def on_train_batch_end(self, batch, logs = None):\n",
    "        pass\n",
    "    \n",
    "    def on_epoch_begin(self, epoch, logs = None):\n",
    "        current_lr = self.model.optimizer.lr\n",
    "        \n",
    "        if(epoch > 1):\n",
    "            # 5, 8, 10번째마다 학습률을 감소시킬 것입니다.\n",
    "            if((epoch == 4) or (epoch == 7) or (epoch == 9)):\n",
    "                current_lr = self.down_lr(current_lr)\n",
    "                \n",
    "                # 감소된 학습률을 현재 모델 옵티마이저의 학습률로 설정합니다.\n",
    "                K.set_value(self.model.optimizer.lr, current_lr)\n",
    "                print('\\nEpoch %03d: learning rate change! %s.' % (epoch + 1, current_lr.numpy()))\n",
    "                \n",
    "    def on_epoch_end(self, epoch, logs = None):\n",
    "        pass"
   ]
  },
  {
   "cell_type": "markdown",
   "metadata": {},
   "source": [
    "## 커스텀 케라스 콜백을 사용하여 모델 학습시키기"
   ]
  },
  {
   "cell_type": "code",
   "execution_count": null,
   "metadata": {},
   "outputs": [],
   "source": [
    "from tensorflow.keras.datasets import mnist\n",
    "import tensorflow as tf\n",
    "\n",
    "(x_train, y_train), (x_test, y_test) = mnist.load_data(path='mnist.npz')\n",
    "\n",
    "from sklearn.model_selection import train_test_split\n",
    "\n",
    "x_train, x_val, y_train, y_val = train_test_split(x_train, y_train, \n",
    "                                                  test_size = 0.3, random_state = 777)\n",
    "\n",
    "x_train = (x_train.reshape(-1, 28, 28, 1))\n",
    "x_val = (x_val.reshape(-1, 28, 28, 1))\n",
    "x_test = (x_test.reshape(-1, 28, 28, 1))\n",
    "\n",
    "ce_layer = tf.keras.layers.CategoryEncoding(num_tokens=np.unique(y_train).__len__(),\n",
    "                                 output_mode=\"one_hot\")\n",
    "\n",
    "y_train = ce_layer(list(y_train))\n",
    "y_val = ce_layer(list(y_val))\n",
    "y_test = ce_layer(list(y_test))"
   ]
  },
  {
   "cell_type": "code",
   "execution_count": null,
   "metadata": {
    "scrolled": true
   },
   "outputs": [],
   "source": [
    "from tensorflow.keras.models import Model\n",
    "from tensorflow.keras.layers import Conv2D, MaxPooling2D, GlobalAveragePooling2D, Dense, Rescaling\n",
    "from tensorflow.keras.layers import Input\n",
    "\n",
    "inputs = Input(shape = (28, 28, 1))\n",
    "\n",
    "x = Rescaling(scale = 1./255)(inputs)\n",
    "x = Conv2D(32, (3, 3), activation = 'relu')(x)\n",
    "x = Conv2D(32, (3, 3), activation = 'relu')(x)\n",
    "x = MaxPooling2D(strides = 2)(x)\n",
    "\n",
    "x = GlobalAveragePooling2D()(x)\n",
    "x = Dense(10, activation = 'softmax')(x)\n",
    "\n",
    "model = Model(inputs = inputs, outputs = x)\n",
    "\n",
    "# 정의한 손실 함수를 사용합니다.\n",
    "model.compile(optimizer = 'adam', \n",
    "              loss = 'categorical_crossentropy',\n",
    "              metrics = ['acc'])\n",
    "\n",
    "model.fit(x_train, y_train,\n",
    "         batch_size = 32,\n",
    "         validation_data = (x_val, y_val),\n",
    "         epochs = 10,\n",
    "         callbacks = [CustomLearningLateCallback()])"
   ]
  },
  {
   "cell_type": "markdown",
   "metadata": {},
   "source": [
    "## (책 내용 X) CosineAnnealing Learning Rate\n",
    " + 커스텀 케라스 콜백과 사용 방법은 동일합니다."
   ]
  },
  {
   "cell_type": "code",
   "execution_count": null,
   "metadata": {},
   "outputs": [],
   "source": [
    "class CosineAnnealingLearningRateSchedule(Callback):\n",
    "    def __init__(self, n_epochs, init_lr, T_mult = 1, eta_min = 0,restart_decay = 0, verbose = 0):\n",
    "        self.T_max = n_epochs\n",
    "        self.T_mult = T_mult\n",
    "        self.cycle_cnt = 0\n",
    "        self.restart_decay = restart_decay\n",
    "        self.init_lr = init_lr\n",
    "        self.eta_min = eta_min\n",
    "        self.lrates = list()\n",
    "  # caculate learning rate for an epoch\n",
    "\n",
    "    def cosine_annealing(self, epoch):\n",
    "        lr = self.eta_min + (self.init_lr - self.eta_min) * (1 + math.cos(math.pi * (epoch / self.T_max))) / 2\n",
    "        if(epoch == self.T_max):\n",
    "            self.cycle_cnt += 1\n",
    "            self.T_max = self.T_mult * self.T_max\n",
    "\n",
    "        if(self.restart_decay > 0):\n",
    "            self.init_lr *= self.restart_decay\n",
    "            print('change init learning rate {}'.format(self.init_lr))\n",
    "\n",
    "    return lr\n",
    "  # calculate and set learning rate at the start of the epoch\n",
    "\n",
    "    def on_epoch_begin(self, epoch, logs = None):\n",
    "        lr = self.cosine_annealing(epoch)\n",
    "        print('\\nEpoch %05d: CosineAnnealingScheduler setting learng rate to %s.' % (epoch + 1, lr))\n",
    "        # set learning rate\n",
    "        backend.set_value(self.model.optimizer.lr, lr)\n",
    "        # log value\n",
    "        self.lrates.append(lr)"
   ]
  }
 ],
 "metadata": {
  "kernelspec": {
   "display_name": "tf_2.12",
   "language": "python",
   "name": "tf_2.12"
  },
  "language_info": {
   "codemirror_mode": {
    "name": "ipython",
    "version": 3
   },
   "file_extension": ".py",
   "mimetype": "text/x-python",
   "name": "python",
   "nbconvert_exporter": "python",
   "pygments_lexer": "ipython3",
   "version": "3.10.13"
  }
 },
 "nbformat": 4,
 "nbformat_minor": 2
}
