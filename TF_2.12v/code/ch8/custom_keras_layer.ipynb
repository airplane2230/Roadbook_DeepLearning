{
 "cells": [
  {
   "cell_type": "markdown",
   "metadata": {},
   "source": [
    "## Lambda 층 사용하기"
   ]
  },
  {
   "cell_type": "code",
   "execution_count": null,
   "metadata": {},
   "outputs": [],
   "source": [
    "from tensorflow.keras.layers import Lambda, Input, Dense\n",
    "from tensorflow.keras.models import Model\n",
    "from tensorflow.keras import backend as K\n",
    "\n",
    "# 나만의 함수를 정의합니다.\n",
    "def custom_f(x):\n",
    "    x_mean = K.mean(x)\n",
    "    x_std = K.std(x)\n",
    "\n",
    "    return (x - x_mean) / x_std\n",
    "\n",
    "inputs = Input(shape = (5, ))\n",
    "# Lambda 층을 통해 Layer으로 변환하여 연결합니다.\n",
    "x = Lambda(custom_f)(inputs)\n",
    "# 기존에 사용하던 층과 연결하여 사용할 수 있습니다.\n",
    "# x = Dense(32, activation = 'relu')(x)\n",
    "\n",
    "# 모델을 구성합니다.\n",
    "model = Model(inputs, x)"
   ]
  },
  {
   "cell_type": "code",
   "execution_count": null,
   "metadata": {},
   "outputs": [],
   "source": [
    "# 간단한 예제\n",
    "import tensorflow as tf\n",
    "\n",
    "test_list = tf.Variable([[1., 2., 3., 4., 5.]])\n",
    "test_mean = K.mean(test_list); test_std = K.std(test_list)\n",
    "result_check = (test_list - test_mean) / test_std\n",
    "\n",
    "print('모델의 출력값: ' + str(model(test_list)) + '\\n')\n",
    "print('결과 확인: ' + str(result_check))"
   ]
  },
  {
   "cell_type": "markdown",
   "metadata": {},
   "source": [
    "## 커스텀 케라스 층 사용하기"
   ]
  },
  {
   "cell_type": "code",
   "execution_count": null,
   "metadata": {},
   "outputs": [],
   "source": [
    "from tensorflow.keras.layers import Layer, Input, Dense\n",
    "from tensorflow.keras.models import Model\n",
    "from tensorflow.keras.activations import relu\n",
    "\n",
    "# 커스텀 층을 정의합니다.\n",
    "class CustomLayer(Layer):\n",
    "    def __init__(self, num_hidden):\n",
    "        super(CustomLayer, self).__init__()\n",
    "        self.num_hidden = num_hidden\n",
    "    \n",
    "    # 가중치를 정의합니다.\n",
    "    def build(self, input_shape):\n",
    "        self.kernels = self.add_weight('kernels',\n",
    "                                       shape = [int(input_shape[-1]), self.num_hidden])\n",
    "        \n",
    "        self.bias = self.add_weight('bias',\n",
    "                                   shape = [self.num_hidden])\n",
    "    \n",
    "    # 수행할 연산을 정의합니다.\n",
    "    def call(self, x):\n",
    "        return relu(tf.matmul(x, self.kernels) + self.bias)\n",
    "    \n",
    "    # 출력값의 형태를 명시해줍니다.\n",
    "    def compute_output_shape(self, input_shape):\n",
    "        return [input_shape[0], self.num_hidden]\n",
    "\n",
    "# 모델을 구성합니다.\n",
    "inputs = Input(shape = (5, ))\n",
    "\n",
    "x = CustomLayer(32)(inputs)\n",
    "\n",
    "model = Model(inputs, x)"
   ]
  },
  {
   "cell_type": "markdown",
   "metadata": {},
   "source": [
    "## 커스텀 함수와 Dense 층 파라미터 수 비교"
   ]
  },
  {
   "cell_type": "markdown",
   "metadata": {},
   "source": [
    "+ (1)"
   ]
  },
  {
   "cell_type": "code",
   "execution_count": null,
   "metadata": {},
   "outputs": [],
   "source": [
    "model.summary()"
   ]
  },
  {
   "cell_type": "markdown",
   "metadata": {},
   "source": [
    "+ (2)"
   ]
  },
  {
   "cell_type": "code",
   "execution_count": null,
   "metadata": {},
   "outputs": [],
   "source": [
    "inputs = Input(shape = (5, ))\n",
    "\n",
    "x = Dense(32)(inputs)\n",
    "\n",
    "model = Model(inputs, x)\n",
    "\n",
    "model.summary()"
   ]
  }
 ],
 "metadata": {
  "kernelspec": {
   "display_name": "tf_2.12",
   "language": "python",
   "name": "tf_2.12"
  },
  "language_info": {
   "codemirror_mode": {
    "name": "ipython",
    "version": 3
   },
   "file_extension": ".py",
   "mimetype": "text/x-python",
   "name": "python",
   "nbconvert_exporter": "python",
   "pygments_lexer": "ipython3",
   "version": "3.10.13"
  }
 },
 "nbformat": 4,
 "nbformat_minor": 2
}
