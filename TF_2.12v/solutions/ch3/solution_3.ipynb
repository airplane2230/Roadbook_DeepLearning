{
 "cells": [
  {
   "cell_type": "markdown",
   "metadata": {},
   "source": [
    "# Q3.\n",
    "<b>(번외) 신경망을 공부할 때, 시그모이드, 소프트맥스는 대표적으로 사용되는 활성화 함수입니다.  \n",
    "또한, 미분 개념을 설명하면서 자주 등장하기도 하는데요.\n",
    "\n",
    "<span style=\"color:red\">시그모이드 → 소프트맥스 순서로 미분을 직접 진행해보기를 바랍니다.</span>  \n",
    "고등 수학 수준의 미분 개념으로 어렵지 않게해결할 수 있으며, 시그모이드 함수를 미분할 수 있다면,  \n",
    "소프트맥스 함수의 미분 과정에서\n",
    "재미있는 결과를 얻을 수 있을 것입니다.</b>\n",
    "\n",
    "<hr>"
   ]
  },
  {
   "cell_type": "markdown",
   "metadata": {},
   "source": [
    "## 시그모이드 함수 미분"
   ]
  },
  {
   "cell_type": "markdown",
   "metadata": {},
   "source": [
    "<img src=\"./img/sigmoid.png\" width = \"70%\" height= \"70%\">"
   ]
  },
  {
   "cell_type": "markdown",
   "metadata": {},
   "source": [
    "<img src=\"./img/sig_diff.png\" width = \"50%\" height= \"50%\">"
   ]
  },
  {
   "cell_type": "markdown",
   "metadata": {},
   "source": [
    "## 소프트맥스 함수 미분\n",
    "+ 결과를 시그모이드 함수와 비교해보세요."
   ]
  },
  {
   "cell_type": "markdown",
   "metadata": {},
   "source": [
    "<img src=\"./img/softmax.png\" width=\"50%\" height=\"50%\">"
   ]
  },
  {
   "cell_type": "markdown",
   "metadata": {},
   "source": [
    "<img src=\"./img/softmax_diff.png\" width = \"50%\" height= \"50%\">"
   ]
  }
 ],
 "metadata": {
  "kernelspec": {
   "display_name": "keras_study",
   "language": "python",
   "name": "keras_study"
  },
  "language_info": {
   "codemirror_mode": {
    "name": "ipython",
    "version": 3
   },
   "file_extension": ".py",
   "mimetype": "text/x-python",
   "name": "python",
   "nbconvert_exporter": "python",
   "pygments_lexer": "ipython3",
   "version": "3.7.3"
  }
 },
 "nbformat": 4,
 "nbformat_minor": 2
}
