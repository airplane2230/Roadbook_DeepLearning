{
 "cells": [
  {
   "cell_type": "markdown",
   "metadata": {},
   "source": [
    "## <span style=\"color:orange\">Q2.</span>\n",
    "<b>이번에는 직접 구성한 모델이 아닌 케라스가 제공하는 <span style=\"color:red\">사전 훈련된 모델(ResNet, Xception 등)</span>을 통해 CIFAR-100 데이터셋을 사용해보세요.  \n",
    "학습 과정을 그려보고 1번 문제의 모델과 수렴 속도, 성능, 학습 속도 등을 비교해보세요.  \n",
    "이 또한 적어도 10 에폭 이상을 학습시켜 보기를 바랍니다. 구글 코랩 사용을 추천합니다.</b>\n",
    "<hr>"
   ]
  },
  {
   "cell_type": "code",
   "execution_count": null,
   "metadata": {},
   "outputs": [],
   "source": [
    "from tensorflow.keras.datasets import cifar100\n",
    "import numpy as np\n",
    "\n",
    "(x_train, y_train), (x_test, y_test) = cifar100.load_data()\n",
    "\n",
    "# 평균과 표준편차는 채널별로 구해줍니다.\n",
    "x_mean = np.mean(x_train, axis = (0, 1, 2))\n",
    "x_std = np.std(x_train, axis = (0, 1, 2))\n",
    "\n",
    "x_train = (x_train - x_mean) / x_std\n",
    "x_test = (x_test - x_mean) / x_std\n",
    "\n",
    "from sklearn.model_selection import train_test_split\n",
    "\n",
    "x_train, x_val, y_train, y_val = train_test_split(x_train, y_train, \n",
    "                                                  test_size = 0.3, random_state = 2020)\n",
    "print('data ready~')"
   ]
  },
  {
   "cell_type": "code",
   "execution_count": null,
   "metadata": {},
   "outputs": [],
   "source": [
    "from tensorflow.keras.preprocessing.image import ImageDataGenerator\n",
    "\n",
    "train_datagen = ImageDataGenerator(horizontal_flip = True,\n",
    "                                   zoom_range = 0.2,\n",
    "                                   width_shift_range = 0.1,\n",
    "                                   height_shift_range = 0.1,\n",
    "                                   rotation_range = 30,\n",
    "                                   fill_mode = 'nearest')\n",
    "\n",
    "val_datagen = ImageDataGenerator()\n",
    "\n",
    "batch_size = 32\n",
    "\n",
    "train_generator = train_datagen.flow(x_train, y_train,\n",
    "                                    batch_size = batch_size)\n",
    "\n",
    "val_generator = val_datagen.flow(x_val, y_val,\n",
    "                                batch_size = batch_size)"
   ]
  },
  {
   "cell_type": "code",
   "execution_count": null,
   "metadata": {},
   "outputs": [],
   "source": [
    "from tensorflow.keras.models import Sequential\n",
    "from tensorflow.keras.layers import Conv2D, MaxPool2D, Dense, Flatten, BatchNormalization, Activation\n",
    "from tensorflow.keras.optimizers import Adam\n",
    "\n",
    "from tensorflow.keras.applications import ResNet50\n",
    "\n",
    "# imagenet을 학습한 모델을 불러옵니다.\n",
    "resnet = ResNet50(weights = 'imagenet', input_shape = (32, 32, 3), include_top = False)\n",
    "resnet.summary()"
   ]
  },
  {
   "cell_type": "code",
   "execution_count": null,
   "metadata": {},
   "outputs": [],
   "source": [
    "model = Sequential()\n",
    "model.add(resnet)\n",
    "# 분류기를 직접 정의합니다.\n",
    "model.add(Flatten())\n",
    "model.add(Dense(256))\n",
    "model.add(BatchNormalization())\n",
    "model.add(Activation('relu'))\n",
    "model.add(Dense(100, activation = 'softmax'))\n",
    "\n",
    "model.compile(optimizer = Adam(1e-4),\n",
    "             loss = 'sparse_categorical_crossentropy',\n",
    "             metrics = ['acc'])\n",
    "\n",
    "def get_step(train_len, batch_size):\n",
    "    if(train_len % batch_size > 0):\n",
    "        return train_len // batch_size + 1\n",
    "    else:\n",
    "        return train_len // batch_size\n",
    "\n",
    "history = model.fit(train_generator,\n",
    "                    epochs = 10, # 최소 10 에폭 이상 학습시켜 보세요.\n",
    "                    steps_per_epoch = get_step(len(x_train), batch_size),\n",
    "                    validation_data = val_generator,\n",
    "                    validation_steps = get_step(len(x_val), batch_size))"
   ]
  }
 ],
 "metadata": {
  "kernelspec": {
   "display_name": "keras_study",
   "language": "python",
   "name": "keras_study"
  },
  "language_info": {
   "codemirror_mode": {
    "name": "ipython",
    "version": 3
   },
   "file_extension": ".py",
   "mimetype": "text/x-python",
   "name": "python",
   "nbconvert_exporter": "python",
   "pygments_lexer": "ipython3",
   "version": "3.7.3"
  }
 },
 "nbformat": 4,
 "nbformat_minor": 2
}
