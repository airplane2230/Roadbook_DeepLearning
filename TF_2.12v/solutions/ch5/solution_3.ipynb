{
 "cells": [
  {
   "cell_type": "markdown",
   "metadata": {},
   "source": [
    "## <span style=\"color:orange\">Q3.</span>\n",
    "<b>이진 분류 문제, 빙산과 선박을 구별하는 캐글 대회 참여하기  \n",
    "    \n",
    "+ 이 책은 코드와 데이터에 대한 어떠한 내용도 제공하지 않습니다.\n",
    "+ 캐글에 'Statoil/C-CORE Iceberg Classifier Challenge'를 검색하세요!\n",
    "+ Conv층을 사용하여 결과를 제출하세요.\n",
    "</b>"
   ]
  }
 ],
 "metadata": {
  "kernelspec": {
   "display_name": "Python 3",
   "language": "python",
   "name": "python3"
  },
  "language_info": {
   "codemirror_mode": {
    "name": "ipython",
    "version": 3
   },
   "file_extension": ".py",
   "mimetype": "text/x-python",
   "name": "python",
   "nbconvert_exporter": "python",
   "pygments_lexer": "ipython3",
   "version": "3.7.3"
  }
 },
 "nbformat": 4,
 "nbformat_minor": 2
}
