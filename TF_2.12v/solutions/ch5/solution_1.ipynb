{
 "cells": [
  {
   "cell_type": "markdown",
   "metadata": {},
   "source": [
    "## <span style=\"color:orange\">Q1.</span>\n",
    "<b>tensorflow.keras.datasets에는 CIFAR-10 데이터셋뿐만 아니라 100개의 클래스를 보유하고 있는 CIFAR-100 데이터셋도 제공하고 있습니다.  \n",
    "아직 딥러닝 입문 단계에 있다면, 매우 오래 걸리는 학습을 경험해보지 못했을 것입니다.  \n",
    "CIFAR-100 데이터셋은 이러한 경험을 충분히 채워줄 수 있을 만한 크기의 데이터셋입니다. 이번 문제는 매우 쉽습니다.\n",
    "\n",
    "<span style=\"color:red\">기존의 CIFAR-10 데이터셋을 사용하던 코드를 CIFAR-100 데이터셋으로 변경하여 학습시켜보세요.</span>\n",
    "\n",
    "물론 모델의 구조를 좀 더 깊게 구성하거나, 얕게 구성하는 등의 시도를 해도 좋습니다.  \n",
    "적어도 10 에폭 이상을 학습시켜 보기를 바랍니다.</b>\n",
    "<hr>"
   ]
  },
  {
   "cell_type": "code",
   "execution_count": null,
   "metadata": {},
   "outputs": [],
   "source": [
    "from tensorflow.keras.datasets import cifar100\n",
    "\n",
    "# 데이터를 다운받습니다.\n",
    "# 메모리가 부족하다면, Google Colab을 사용하세요.\n",
    "(x_train, y_train), (x_test, y_test) = cifar100.load_data()\n",
    "\n",
    "# 평균과 표준편차는 채널별로 구해줍니다.\n",
    "import numpy as np\n",
    "x_mean = np.mean(x_train, axis = (0, 1, 2))\n",
    "x_std = np.std(x_train, axis = (0, 1, 2))\n",
    "\n",
    "x_train = (x_train - x_mean) / x_std\n",
    "x_test = (x_test - x_mean) / x_std\n",
    "\n",
    "from sklearn.model_selection import train_test_split\n",
    "\n",
    "x_train, x_val, y_train, y_val = train_test_split(x_train, y_train, test_size = 0.3)\n",
    "\n",
    "from tensorflow.keras.models import Sequential\n",
    "from tensorflow.keras.layers import Conv2D, MaxPool2D, Dense, Flatten\n",
    "from tensorflow.keras.optimizers import Adam\n",
    "\n",
    "# 모델을 좀더 깊게 또는 얕게 구성해보세요.\n",
    "model = Sequential()\n",
    "# (32, 32, 3)의 데이터를 입력으로 받습니다. \n",
    "model.add(Conv2D(filters = 32, kernel_size = 3, padding = 'same', activation = 'relu', input_shape = (32, 32, 3)))\n",
    "model.add(Conv2D(filters = 32, kernel_size = 3, padding = 'same', activation = 'relu'))\n",
    "model.add(MaxPool2D(pool_size = (2, 2), strides = 2, padding = 'same'))\n",
    "model.add(Conv2D(filters = 64, kernel_size = 3, padding = 'same', activation = 'relu'))\n",
    "model.add(Conv2D(filters = 64, kernel_size = 3, padding = 'same', activation = 'relu'))\n",
    "model.add(MaxPool2D(pool_size = (2, 2), strides = 2, padding = 'same'))\n",
    "model.add(Conv2D(filters = 128, kernel_size = 3, padding = 'same', activation = 'relu'))\n",
    "model.add(Conv2D(filters = 128, kernel_size = 3, padding = 'same', activation = 'relu'))\n",
    "model.add(MaxPool2D(pool_size = (2, 2), strides = 2, padding = 'same'))\n",
    "model.add(Flatten())\n",
    "model.add(Dense(256, activation = 'relu'))\n",
    "model.add(Dense(100, activation = 'softmax')) # 100개의 출력을 가지는 신경망\n",
    "\n",
    "model.compile(optimizer = Adam(1e-4),\n",
    "             loss = 'sparse_categorical_crossentropy',\n",
    "             metrics = ['acc'])\n",
    "\n",
    "# 적어도 10 에폭 이상을 학습시켜 보세요.\n",
    "# 음료를 마시면서 기다려도 좋습니다.\n",
    "history = model.fit(x_train, y_train,\n",
    "                    epochs = 10,\n",
    "                    batch_size = 32,\n",
    "                    validation_data = (x_val, y_val))"
   ]
  }
 ],
 "metadata": {
  "kernelspec": {
   "display_name": "keras_study",
   "language": "python",
   "name": "keras_study"
  },
  "language_info": {
   "codemirror_mode": {
    "name": "ipython",
    "version": 3
   },
   "file_extension": ".py",
   "mimetype": "text/x-python",
   "name": "python",
   "nbconvert_exporter": "python",
   "pygments_lexer": "ipython3",
   "version": "3.7.3"
  }
 },
 "nbformat": 4,
 "nbformat_minor": 2
}
